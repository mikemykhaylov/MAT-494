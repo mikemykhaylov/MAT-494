{
 "cells": [
  {
   "cell_type": "code",
   "execution_count": 1,
   "metadata": {
    "ExecuteTime": {
     "end_time": "2023-11-26T23:16:46.139816Z",
     "start_time": "2023-11-26T23:16:45.697743Z"
    }
   },
   "outputs": [],
   "source": [
    "import pandas as pd\n",
    "import numpy as np\n",
    "import seaborn as sns\n",
    "from sklearn.model_selection import train_test_split\n",
    "from sklearn.preprocessing import StandardScaler\n",
    "from sklearn.linear_model import LinearRegression\n",
    "from sklearn.metrics import mean_squared_error\n",
    "import matplotlib.pyplot as plt"
   ]
  },
  {
   "cell_type": "code",
   "execution_count": 2,
   "metadata": {
    "ExecuteTime": {
     "end_time": "2023-11-26T23:16:46.201240Z",
     "start_time": "2023-11-26T23:16:46.137314Z"
    }
   },
   "outputs": [
    {
     "data": {
      "text/plain": "  Sex  Length  Diameter  Height  Whole weight  Shucked weight  Viscera weight  \\\n0   M   0.455     0.365   0.095        0.5140          0.2245          0.1010   \n1   M   0.350     0.265   0.090        0.2255          0.0995          0.0485   \n2   F   0.530     0.420   0.135        0.6770          0.2565          0.1415   \n3   M   0.440     0.365   0.125        0.5160          0.2155          0.1140   \n4   I   0.330     0.255   0.080        0.2050          0.0895          0.0395   \n\n   Shell weight  Rings  \n0         0.150     15  \n1         0.070      7  \n2         0.210      9  \n3         0.155     10  \n4         0.055      7  ",
      "text/html": "<div>\n<style scoped>\n    .dataframe tbody tr th:only-of-type {\n        vertical-align: middle;\n    }\n\n    .dataframe tbody tr th {\n        vertical-align: top;\n    }\n\n    .dataframe thead th {\n        text-align: right;\n    }\n</style>\n<table border=\"1\" class=\"dataframe\">\n  <thead>\n    <tr style=\"text-align: right;\">\n      <th></th>\n      <th>Sex</th>\n      <th>Length</th>\n      <th>Diameter</th>\n      <th>Height</th>\n      <th>Whole weight</th>\n      <th>Shucked weight</th>\n      <th>Viscera weight</th>\n      <th>Shell weight</th>\n      <th>Rings</th>\n    </tr>\n  </thead>\n  <tbody>\n    <tr>\n      <th>0</th>\n      <td>M</td>\n      <td>0.455</td>\n      <td>0.365</td>\n      <td>0.095</td>\n      <td>0.5140</td>\n      <td>0.2245</td>\n      <td>0.1010</td>\n      <td>0.150</td>\n      <td>15</td>\n    </tr>\n    <tr>\n      <th>1</th>\n      <td>M</td>\n      <td>0.350</td>\n      <td>0.265</td>\n      <td>0.090</td>\n      <td>0.2255</td>\n      <td>0.0995</td>\n      <td>0.0485</td>\n      <td>0.070</td>\n      <td>7</td>\n    </tr>\n    <tr>\n      <th>2</th>\n      <td>F</td>\n      <td>0.530</td>\n      <td>0.420</td>\n      <td>0.135</td>\n      <td>0.6770</td>\n      <td>0.2565</td>\n      <td>0.1415</td>\n      <td>0.210</td>\n      <td>9</td>\n    </tr>\n    <tr>\n      <th>3</th>\n      <td>M</td>\n      <td>0.440</td>\n      <td>0.365</td>\n      <td>0.125</td>\n      <td>0.5160</td>\n      <td>0.2155</td>\n      <td>0.1140</td>\n      <td>0.155</td>\n      <td>10</td>\n    </tr>\n    <tr>\n      <th>4</th>\n      <td>I</td>\n      <td>0.330</td>\n      <td>0.255</td>\n      <td>0.080</td>\n      <td>0.2050</td>\n      <td>0.0895</td>\n      <td>0.0395</td>\n      <td>0.055</td>\n      <td>7</td>\n    </tr>\n  </tbody>\n</table>\n</div>"
     },
     "execution_count": 2,
     "metadata": {},
     "output_type": "execute_result"
    }
   ],
   "source": [
    "df = pd.read_csv('data.csv')\n",
    "df.head()"
   ]
  },
  {
   "cell_type": "code",
   "execution_count": 3,
   "metadata": {
    "ExecuteTime": {
     "end_time": "2023-11-26T23:16:46.238996Z",
     "start_time": "2023-11-26T23:16:46.204681Z"
    }
   },
   "outputs": [
    {
     "name": "stdout",
     "output_type": "stream",
     "text": [
      "<class 'pandas.core.frame.DataFrame'>\n",
      "RangeIndex: 4177 entries, 0 to 4176\n",
      "Data columns (total 9 columns):\n",
      " #   Column          Non-Null Count  Dtype  \n",
      "---  ------          --------------  -----  \n",
      " 0   Sex             4177 non-null   object \n",
      " 1   Length          4177 non-null   float64\n",
      " 2   Diameter        4177 non-null   float64\n",
      " 3   Height          4177 non-null   float64\n",
      " 4   Whole weight    4177 non-null   float64\n",
      " 5   Shucked weight  4177 non-null   float64\n",
      " 6   Viscera weight  4177 non-null   float64\n",
      " 7   Shell weight    4177 non-null   float64\n",
      " 8   Rings           4177 non-null   int64  \n",
      "dtypes: float64(7), int64(1), object(1)\n",
      "memory usage: 293.8+ KB\n"
     ]
    }
   ],
   "source": [
    "df.info()"
   ]
  },
  {
   "cell_type": "code",
   "execution_count": 4,
   "metadata": {
    "ExecuteTime": {
     "end_time": "2023-11-26T23:16:46.510099Z",
     "start_time": "2023-11-26T23:16:46.234586Z"
    }
   },
   "outputs": [
    {
     "data": {
      "text/plain": "            Length     Diameter       Height  Whole weight  Shucked weight  \\\ncount  4177.000000  4177.000000  4177.000000   4177.000000     4177.000000   \nmean      0.523992     0.407881     0.139516      0.828742        0.359367   \nstd       0.120093     0.099240     0.041827      0.490389        0.221963   \nmin       0.075000     0.055000     0.000000      0.002000        0.001000   \n25%       0.450000     0.350000     0.115000      0.441500        0.186000   \n50%       0.545000     0.425000     0.140000      0.799500        0.336000   \n75%       0.615000     0.480000     0.165000      1.153000        0.502000   \nmax       0.815000     0.650000     1.130000      2.825500        1.488000   \n\n       Viscera weight  Shell weight        Rings  \ncount     4177.000000   4177.000000  4177.000000  \nmean         0.180594      0.238831     9.933684  \nstd          0.109614      0.139203     3.224169  \nmin          0.000500      0.001500     1.000000  \n25%          0.093500      0.130000     8.000000  \n50%          0.171000      0.234000     9.000000  \n75%          0.253000      0.329000    11.000000  \nmax          0.760000      1.005000    29.000000  ",
      "text/html": "<div>\n<style scoped>\n    .dataframe tbody tr th:only-of-type {\n        vertical-align: middle;\n    }\n\n    .dataframe tbody tr th {\n        vertical-align: top;\n    }\n\n    .dataframe thead th {\n        text-align: right;\n    }\n</style>\n<table border=\"1\" class=\"dataframe\">\n  <thead>\n    <tr style=\"text-align: right;\">\n      <th></th>\n      <th>Length</th>\n      <th>Diameter</th>\n      <th>Height</th>\n      <th>Whole weight</th>\n      <th>Shucked weight</th>\n      <th>Viscera weight</th>\n      <th>Shell weight</th>\n      <th>Rings</th>\n    </tr>\n  </thead>\n  <tbody>\n    <tr>\n      <th>count</th>\n      <td>4177.000000</td>\n      <td>4177.000000</td>\n      <td>4177.000000</td>\n      <td>4177.000000</td>\n      <td>4177.000000</td>\n      <td>4177.000000</td>\n      <td>4177.000000</td>\n      <td>4177.000000</td>\n    </tr>\n    <tr>\n      <th>mean</th>\n      <td>0.523992</td>\n      <td>0.407881</td>\n      <td>0.139516</td>\n      <td>0.828742</td>\n      <td>0.359367</td>\n      <td>0.180594</td>\n      <td>0.238831</td>\n      <td>9.933684</td>\n    </tr>\n    <tr>\n      <th>std</th>\n      <td>0.120093</td>\n      <td>0.099240</td>\n      <td>0.041827</td>\n      <td>0.490389</td>\n      <td>0.221963</td>\n      <td>0.109614</td>\n      <td>0.139203</td>\n      <td>3.224169</td>\n    </tr>\n    <tr>\n      <th>min</th>\n      <td>0.075000</td>\n      <td>0.055000</td>\n      <td>0.000000</td>\n      <td>0.002000</td>\n      <td>0.001000</td>\n      <td>0.000500</td>\n      <td>0.001500</td>\n      <td>1.000000</td>\n    </tr>\n    <tr>\n      <th>25%</th>\n      <td>0.450000</td>\n      <td>0.350000</td>\n      <td>0.115000</td>\n      <td>0.441500</td>\n      <td>0.186000</td>\n      <td>0.093500</td>\n      <td>0.130000</td>\n      <td>8.000000</td>\n    </tr>\n    <tr>\n      <th>50%</th>\n      <td>0.545000</td>\n      <td>0.425000</td>\n      <td>0.140000</td>\n      <td>0.799500</td>\n      <td>0.336000</td>\n      <td>0.171000</td>\n      <td>0.234000</td>\n      <td>9.000000</td>\n    </tr>\n    <tr>\n      <th>75%</th>\n      <td>0.615000</td>\n      <td>0.480000</td>\n      <td>0.165000</td>\n      <td>1.153000</td>\n      <td>0.502000</td>\n      <td>0.253000</td>\n      <td>0.329000</td>\n      <td>11.000000</td>\n    </tr>\n    <tr>\n      <th>max</th>\n      <td>0.815000</td>\n      <td>0.650000</td>\n      <td>1.130000</td>\n      <td>2.825500</td>\n      <td>1.488000</td>\n      <td>0.760000</td>\n      <td>1.005000</td>\n      <td>29.000000</td>\n    </tr>\n  </tbody>\n</table>\n</div>"
     },
     "execution_count": 4,
     "metadata": {},
     "output_type": "execute_result"
    }
   ],
   "source": [
    "df.describe()"
   ]
  },
  {
   "cell_type": "code",
   "execution_count": 5,
   "metadata": {
    "ExecuteTime": {
     "end_time": "2023-11-26T23:16:46.511515Z",
     "start_time": "2023-11-26T23:16:46.278803Z"
    }
   },
   "outputs": [],
   "source": [
    "# convert Sex column to one-hot encoding with columns M, F, and I\n",
    "df[\"M\"] = df[\"Sex\"].apply(lambda x: 1 if x == \"M\" else 0)\n",
    "df[\"F\"] = df[\"Sex\"].apply(lambda x: 1 if x == \"F\" else 0)\n",
    "df[\"I\"] = df[\"Sex\"].apply(lambda x: 1 if x == \"I\" else 0)"
   ]
  },
  {
   "cell_type": "code",
   "execution_count": 6,
   "metadata": {
    "ExecuteTime": {
     "end_time": "2023-11-26T23:16:46.512123Z",
     "start_time": "2023-11-26T23:16:46.296312Z"
    }
   },
   "outputs": [],
   "source": [
    "# delete first column\n",
    "df = df.drop(\"Sex\", axis=1)"
   ]
  },
  {
   "cell_type": "code",
   "execution_count": 7,
   "metadata": {
    "ExecuteTime": {
     "end_time": "2023-11-26T23:16:46.513196Z",
     "start_time": "2023-11-26T23:16:46.307336Z"
    }
   },
   "outputs": [
    {
     "name": "stderr",
     "output_type": "stream",
     "text": [
      "/Users/mikemykhaylov/.anaconda/envs/mat422/lib/python3.11/site-packages/sklearn/utils/validation.py:767: FutureWarning: is_sparse is deprecated and will be removed in a future version. Check `isinstance(dtype, pd.SparseDtype)` instead.\n",
      "  if not hasattr(array, \"sparse\") and array.dtypes.apply(is_sparse).any():\n",
      "/Users/mikemykhaylov/.anaconda/envs/mat422/lib/python3.11/site-packages/sklearn/utils/validation.py:605: FutureWarning: is_sparse is deprecated and will be removed in a future version. Check `isinstance(dtype, pd.SparseDtype)` instead.\n",
      "  if is_sparse(pd_dtype):\n",
      "/Users/mikemykhaylov/.anaconda/envs/mat422/lib/python3.11/site-packages/sklearn/utils/validation.py:614: FutureWarning: is_sparse is deprecated and will be removed in a future version. Check `isinstance(dtype, pd.SparseDtype)` instead.\n",
      "  if is_sparse(pd_dtype) or not is_extension_array_dtype(pd_dtype):\n",
      "/Users/mikemykhaylov/.anaconda/envs/mat422/lib/python3.11/site-packages/sklearn/utils/validation.py:767: FutureWarning: is_sparse is deprecated and will be removed in a future version. Check `isinstance(dtype, pd.SparseDtype)` instead.\n",
      "  if not hasattr(array, \"sparse\") and array.dtypes.apply(is_sparse).any():\n",
      "/Users/mikemykhaylov/.anaconda/envs/mat422/lib/python3.11/site-packages/sklearn/utils/validation.py:605: FutureWarning: is_sparse is deprecated and will be removed in a future version. Check `isinstance(dtype, pd.SparseDtype)` instead.\n",
      "  if is_sparse(pd_dtype):\n",
      "/Users/mikemykhaylov/.anaconda/envs/mat422/lib/python3.11/site-packages/sklearn/utils/validation.py:614: FutureWarning: is_sparse is deprecated and will be removed in a future version. Check `isinstance(dtype, pd.SparseDtype)` instead.\n",
      "  if is_sparse(pd_dtype) or not is_extension_array_dtype(pd_dtype):\n"
     ]
    }
   ],
   "source": [
    "# Select columns to normalize\n",
    "columns_to_normalize = df.columns.difference([\"M\", \"F\", \"I\", \"Rings\"])\n",
    "\n",
    "# Create a StandardScaler object\n",
    "scaler = StandardScaler()\n",
    "\n",
    "# Fit and transform the selected columns\n",
    "df[columns_to_normalize] = scaler.fit_transform(df[columns_to_normalize])"
   ]
  },
  {
   "cell_type": "code",
   "execution_count": 8,
   "metadata": {
    "ExecuteTime": {
     "end_time": "2023-11-26T23:16:46.522615Z",
     "start_time": "2023-11-26T23:16:46.324111Z"
    }
   },
   "outputs": [
    {
     "data": {
      "text/plain": "                 count          mean       std       min       25%       50%  \\\nLength          4177.0 -5.834718e-16  1.000120 -3.739154 -0.616198  0.174951   \nDiameter        4177.0 -3.027929e-16  1.000120 -3.556267 -0.583316  0.172519   \nHeight          4177.0  3.912493e-16  1.000120 -3.335953 -0.586208  0.011563   \nWhole weight    4177.0  9.185853e-17  1.000120 -1.686092 -0.789758 -0.059638   \nShucked weight  4177.0 -1.020650e-17  1.000120 -1.614731 -0.781159 -0.105289   \nViscera weight  4177.0  2.704723e-16  1.000120 -1.643173 -0.794642 -0.087532   \nShell weight    4177.0  2.976897e-16  1.000120 -1.705134 -0.781909 -0.034708   \nRings           4177.0  9.933684e+00  3.224169  1.000000  8.000000  9.000000   \nM               4177.0  3.658128e-01  0.481715  0.000000  0.000000  0.000000   \nF               4177.0  3.129040e-01  0.463731  0.000000  0.000000  0.000000   \nI               4177.0  3.212832e-01  0.467025  0.000000  0.000000  0.000000   \n\n                      75%        max  \nLength           0.757903   2.423480  \nDiameter         0.726798   2.440025  \nHeight           0.609334  23.683287  \nWhole weight     0.661305   4.072271  \nShucked weight   0.642673   5.085388  \nViscera weight   0.660635   5.286500  \nShell weight     0.647832   5.504642  \nRings           11.000000  29.000000  \nM                1.000000   1.000000  \nF                1.000000   1.000000  \nI                1.000000   1.000000  ",
      "text/html": "<div>\n<style scoped>\n    .dataframe tbody tr th:only-of-type {\n        vertical-align: middle;\n    }\n\n    .dataframe tbody tr th {\n        vertical-align: top;\n    }\n\n    .dataframe thead th {\n        text-align: right;\n    }\n</style>\n<table border=\"1\" class=\"dataframe\">\n  <thead>\n    <tr style=\"text-align: right;\">\n      <th></th>\n      <th>count</th>\n      <th>mean</th>\n      <th>std</th>\n      <th>min</th>\n      <th>25%</th>\n      <th>50%</th>\n      <th>75%</th>\n      <th>max</th>\n    </tr>\n  </thead>\n  <tbody>\n    <tr>\n      <th>Length</th>\n      <td>4177.0</td>\n      <td>-5.834718e-16</td>\n      <td>1.000120</td>\n      <td>-3.739154</td>\n      <td>-0.616198</td>\n      <td>0.174951</td>\n      <td>0.757903</td>\n      <td>2.423480</td>\n    </tr>\n    <tr>\n      <th>Diameter</th>\n      <td>4177.0</td>\n      <td>-3.027929e-16</td>\n      <td>1.000120</td>\n      <td>-3.556267</td>\n      <td>-0.583316</td>\n      <td>0.172519</td>\n      <td>0.726798</td>\n      <td>2.440025</td>\n    </tr>\n    <tr>\n      <th>Height</th>\n      <td>4177.0</td>\n      <td>3.912493e-16</td>\n      <td>1.000120</td>\n      <td>-3.335953</td>\n      <td>-0.586208</td>\n      <td>0.011563</td>\n      <td>0.609334</td>\n      <td>23.683287</td>\n    </tr>\n    <tr>\n      <th>Whole weight</th>\n      <td>4177.0</td>\n      <td>9.185853e-17</td>\n      <td>1.000120</td>\n      <td>-1.686092</td>\n      <td>-0.789758</td>\n      <td>-0.059638</td>\n      <td>0.661305</td>\n      <td>4.072271</td>\n    </tr>\n    <tr>\n      <th>Shucked weight</th>\n      <td>4177.0</td>\n      <td>-1.020650e-17</td>\n      <td>1.000120</td>\n      <td>-1.614731</td>\n      <td>-0.781159</td>\n      <td>-0.105289</td>\n      <td>0.642673</td>\n      <td>5.085388</td>\n    </tr>\n    <tr>\n      <th>Viscera weight</th>\n      <td>4177.0</td>\n      <td>2.704723e-16</td>\n      <td>1.000120</td>\n      <td>-1.643173</td>\n      <td>-0.794642</td>\n      <td>-0.087532</td>\n      <td>0.660635</td>\n      <td>5.286500</td>\n    </tr>\n    <tr>\n      <th>Shell weight</th>\n      <td>4177.0</td>\n      <td>2.976897e-16</td>\n      <td>1.000120</td>\n      <td>-1.705134</td>\n      <td>-0.781909</td>\n      <td>-0.034708</td>\n      <td>0.647832</td>\n      <td>5.504642</td>\n    </tr>\n    <tr>\n      <th>Rings</th>\n      <td>4177.0</td>\n      <td>9.933684e+00</td>\n      <td>3.224169</td>\n      <td>1.000000</td>\n      <td>8.000000</td>\n      <td>9.000000</td>\n      <td>11.000000</td>\n      <td>29.000000</td>\n    </tr>\n    <tr>\n      <th>M</th>\n      <td>4177.0</td>\n      <td>3.658128e-01</td>\n      <td>0.481715</td>\n      <td>0.000000</td>\n      <td>0.000000</td>\n      <td>0.000000</td>\n      <td>1.000000</td>\n      <td>1.000000</td>\n    </tr>\n    <tr>\n      <th>F</th>\n      <td>4177.0</td>\n      <td>3.129040e-01</td>\n      <td>0.463731</td>\n      <td>0.000000</td>\n      <td>0.000000</td>\n      <td>0.000000</td>\n      <td>1.000000</td>\n      <td>1.000000</td>\n    </tr>\n    <tr>\n      <th>I</th>\n      <td>4177.0</td>\n      <td>3.212832e-01</td>\n      <td>0.467025</td>\n      <td>0.000000</td>\n      <td>0.000000</td>\n      <td>0.000000</td>\n      <td>1.000000</td>\n      <td>1.000000</td>\n    </tr>\n  </tbody>\n</table>\n</div>"
     },
     "execution_count": 8,
     "metadata": {},
     "output_type": "execute_result"
    }
   ],
   "source": [
    "df.describe().transpose()"
   ]
  },
  {
   "cell_type": "code",
   "execution_count": 9,
   "outputs": [
    {
     "name": "stderr",
     "output_type": "stream",
     "text": [
      "/Users/mikemykhaylov/.anaconda/envs/mat422/lib/python3.11/site-packages/sklearn/utils/validation.py:767: FutureWarning: is_sparse is deprecated and will be removed in a future version. Check `isinstance(dtype, pd.SparseDtype)` instead.\n",
      "  if not hasattr(array, \"sparse\") and array.dtypes.apply(is_sparse).any():\n",
      "/Users/mikemykhaylov/.anaconda/envs/mat422/lib/python3.11/site-packages/sklearn/utils/validation.py:605: FutureWarning: is_sparse is deprecated and will be removed in a future version. Check `isinstance(dtype, pd.SparseDtype)` instead.\n",
      "  if is_sparse(pd_dtype):\n",
      "/Users/mikemykhaylov/.anaconda/envs/mat422/lib/python3.11/site-packages/sklearn/utils/validation.py:614: FutureWarning: is_sparse is deprecated and will be removed in a future version. Check `isinstance(dtype, pd.SparseDtype)` instead.\n",
      "  if is_sparse(pd_dtype) or not is_extension_array_dtype(pd_dtype):\n",
      "/Users/mikemykhaylov/.anaconda/envs/mat422/lib/python3.11/site-packages/sklearn/utils/validation.py:605: FutureWarning: is_sparse is deprecated and will be removed in a future version. Check `isinstance(dtype, pd.SparseDtype)` instead.\n",
      "  if is_sparse(pd_dtype):\n",
      "/Users/mikemykhaylov/.anaconda/envs/mat422/lib/python3.11/site-packages/sklearn/utils/validation.py:614: FutureWarning: is_sparse is deprecated and will be removed in a future version. Check `isinstance(dtype, pd.SparseDtype)` instead.\n",
      "  if is_sparse(pd_dtype) or not is_extension_array_dtype(pd_dtype):\n"
     ]
    },
    {
     "data": {
      "text/plain": "LinearRegression()",
      "text/html": "<style>#sk-container-id-1 {color: black;background-color: white;}#sk-container-id-1 pre{padding: 0;}#sk-container-id-1 div.sk-toggleable {background-color: white;}#sk-container-id-1 label.sk-toggleable__label {cursor: pointer;display: block;width: 100%;margin-bottom: 0;padding: 0.3em;box-sizing: border-box;text-align: center;}#sk-container-id-1 label.sk-toggleable__label-arrow:before {content: \"▸\";float: left;margin-right: 0.25em;color: #696969;}#sk-container-id-1 label.sk-toggleable__label-arrow:hover:before {color: black;}#sk-container-id-1 div.sk-estimator:hover label.sk-toggleable__label-arrow:before {color: black;}#sk-container-id-1 div.sk-toggleable__content {max-height: 0;max-width: 0;overflow: hidden;text-align: left;background-color: #f0f8ff;}#sk-container-id-1 div.sk-toggleable__content pre {margin: 0.2em;color: black;border-radius: 0.25em;background-color: #f0f8ff;}#sk-container-id-1 input.sk-toggleable__control:checked~div.sk-toggleable__content {max-height: 200px;max-width: 100%;overflow: auto;}#sk-container-id-1 input.sk-toggleable__control:checked~label.sk-toggleable__label-arrow:before {content: \"▾\";}#sk-container-id-1 div.sk-estimator input.sk-toggleable__control:checked~label.sk-toggleable__label {background-color: #d4ebff;}#sk-container-id-1 div.sk-label input.sk-toggleable__control:checked~label.sk-toggleable__label {background-color: #d4ebff;}#sk-container-id-1 input.sk-hidden--visually {border: 0;clip: rect(1px 1px 1px 1px);clip: rect(1px, 1px, 1px, 1px);height: 1px;margin: -1px;overflow: hidden;padding: 0;position: absolute;width: 1px;}#sk-container-id-1 div.sk-estimator {font-family: monospace;background-color: #f0f8ff;border: 1px dotted black;border-radius: 0.25em;box-sizing: border-box;margin-bottom: 0.5em;}#sk-container-id-1 div.sk-estimator:hover {background-color: #d4ebff;}#sk-container-id-1 div.sk-parallel-item::after {content: \"\";width: 100%;border-bottom: 1px solid gray;flex-grow: 1;}#sk-container-id-1 div.sk-label:hover label.sk-toggleable__label {background-color: #d4ebff;}#sk-container-id-1 div.sk-serial::before {content: \"\";position: absolute;border-left: 1px solid gray;box-sizing: border-box;top: 0;bottom: 0;left: 50%;z-index: 0;}#sk-container-id-1 div.sk-serial {display: flex;flex-direction: column;align-items: center;background-color: white;padding-right: 0.2em;padding-left: 0.2em;position: relative;}#sk-container-id-1 div.sk-item {position: relative;z-index: 1;}#sk-container-id-1 div.sk-parallel {display: flex;align-items: stretch;justify-content: center;background-color: white;position: relative;}#sk-container-id-1 div.sk-item::before, #sk-container-id-1 div.sk-parallel-item::before {content: \"\";position: absolute;border-left: 1px solid gray;box-sizing: border-box;top: 0;bottom: 0;left: 50%;z-index: -1;}#sk-container-id-1 div.sk-parallel-item {display: flex;flex-direction: column;z-index: 1;position: relative;background-color: white;}#sk-container-id-1 div.sk-parallel-item:first-child::after {align-self: flex-end;width: 50%;}#sk-container-id-1 div.sk-parallel-item:last-child::after {align-self: flex-start;width: 50%;}#sk-container-id-1 div.sk-parallel-item:only-child::after {width: 0;}#sk-container-id-1 div.sk-dashed-wrapped {border: 1px dashed gray;margin: 0 0.4em 0.5em 0.4em;box-sizing: border-box;padding-bottom: 0.4em;background-color: white;}#sk-container-id-1 div.sk-label label {font-family: monospace;font-weight: bold;display: inline-block;line-height: 1.2em;}#sk-container-id-1 div.sk-label-container {text-align: center;}#sk-container-id-1 div.sk-container {/* jupyter's `normalize.less` sets `[hidden] { display: none; }` but bootstrap.min.css set `[hidden] { display: none !important; }` so we also need the `!important` here to be able to override the default hidden behavior on the sphinx rendered scikit-learn.org. See: https://github.com/scikit-learn/scikit-learn/issues/21755 */display: inline-block !important;position: relative;}#sk-container-id-1 div.sk-text-repr-fallback {display: none;}</style><div id=\"sk-container-id-1\" class=\"sk-top-container\"><div class=\"sk-text-repr-fallback\"><pre>LinearRegression()</pre><b>In a Jupyter environment, please rerun this cell to show the HTML representation or trust the notebook. <br />On GitHub, the HTML representation is unable to render, please try loading this page with nbviewer.org.</b></div><div class=\"sk-container\" hidden><div class=\"sk-item\"><div class=\"sk-estimator sk-toggleable\"><input class=\"sk-toggleable__control sk-hidden--visually\" id=\"sk-estimator-id-1\" type=\"checkbox\" checked><label for=\"sk-estimator-id-1\" class=\"sk-toggleable__label sk-toggleable__label-arrow\">LinearRegression</label><div class=\"sk-toggleable__content\"><pre>LinearRegression()</pre></div></div></div></div></div>"
     },
     "execution_count": 9,
     "metadata": {},
     "output_type": "execute_result"
    }
   ],
   "source": [
    "# fit a multiple linear regression model\n",
    "X = df.drop([\"Rings\"], axis=1)\n",
    "y = df[\"Rings\"]\n",
    "X_train, X_test, y_train, y_test = train_test_split(X, y, test_size=0.3, random_state=42)\n",
    "\n",
    "lr = LinearRegression()\n",
    "lr.fit(X_train, y_train)"
   ],
   "metadata": {
    "collapsed": false,
    "ExecuteTime": {
     "end_time": "2023-11-26T23:16:46.577623Z",
     "start_time": "2023-11-26T23:16:46.378718Z"
    }
   }
  },
  {
   "cell_type": "code",
   "execution_count": 10,
   "outputs": [
    {
     "name": "stdout",
     "output_type": "stream",
     "text": [
      "RMSE: 2.187416\n"
     ]
    },
    {
     "name": "stderr",
     "output_type": "stream",
     "text": [
      "/Users/mikemykhaylov/.anaconda/envs/mat422/lib/python3.11/site-packages/sklearn/utils/validation.py:767: FutureWarning: is_sparse is deprecated and will be removed in a future version. Check `isinstance(dtype, pd.SparseDtype)` instead.\n",
      "  if not hasattr(array, \"sparse\") and array.dtypes.apply(is_sparse).any():\n",
      "/Users/mikemykhaylov/.anaconda/envs/mat422/lib/python3.11/site-packages/sklearn/utils/validation.py:605: FutureWarning: is_sparse is deprecated and will be removed in a future version. Check `isinstance(dtype, pd.SparseDtype)` instead.\n",
      "  if is_sparse(pd_dtype):\n",
      "/Users/mikemykhaylov/.anaconda/envs/mat422/lib/python3.11/site-packages/sklearn/utils/validation.py:614: FutureWarning: is_sparse is deprecated and will be removed in a future version. Check `isinstance(dtype, pd.SparseDtype)` instead.\n",
      "  if is_sparse(pd_dtype) or not is_extension_array_dtype(pd_dtype):\n",
      "/Users/mikemykhaylov/.anaconda/envs/mat422/lib/python3.11/site-packages/sklearn/utils/validation.py:605: FutureWarning: is_sparse is deprecated and will be removed in a future version. Check `isinstance(dtype, pd.SparseDtype)` instead.\n",
      "  if is_sparse(pd_dtype):\n",
      "/Users/mikemykhaylov/.anaconda/envs/mat422/lib/python3.11/site-packages/sklearn/utils/validation.py:614: FutureWarning: is_sparse is deprecated and will be removed in a future version. Check `isinstance(dtype, pd.SparseDtype)` instead.\n",
      "  if is_sparse(pd_dtype) or not is_extension_array_dtype(pd_dtype):\n"
     ]
    }
   ],
   "source": [
    "# predict on test set, calculate RMSE\n",
    "y_pred = lr.predict(X_test)\n",
    "rmse = np.sqrt(mean_squared_error(y_test, y_pred))\n",
    "print(\"RMSE: %f\" % (rmse))"
   ],
   "metadata": {
    "collapsed": false,
    "ExecuteTime": {
     "end_time": "2023-11-26T23:16:46.579553Z",
     "start_time": "2023-11-26T23:16:46.420248Z"
    }
   }
  },
  {
   "cell_type": "code",
   "execution_count": 11,
   "outputs": [
    {
     "name": "stderr",
     "output_type": "stream",
     "text": [
      "/Users/mikemykhaylov/.anaconda/envs/mat422/lib/python3.11/site-packages/sklearn/utils/validation.py:767: FutureWarning: is_sparse is deprecated and will be removed in a future version. Check `isinstance(dtype, pd.SparseDtype)` instead.\n",
      "  if not hasattr(array, \"sparse\") and array.dtypes.apply(is_sparse).any():\n",
      "/Users/mikemykhaylov/.anaconda/envs/mat422/lib/python3.11/site-packages/sklearn/utils/validation.py:605: FutureWarning: is_sparse is deprecated and will be removed in a future version. Check `isinstance(dtype, pd.SparseDtype)` instead.\n",
      "  if is_sparse(pd_dtype):\n",
      "/Users/mikemykhaylov/.anaconda/envs/mat422/lib/python3.11/site-packages/sklearn/utils/validation.py:614: FutureWarning: is_sparse is deprecated and will be removed in a future version. Check `isinstance(dtype, pd.SparseDtype)` instead.\n",
      "  if is_sparse(pd_dtype) or not is_extension_array_dtype(pd_dtype):\n",
      "/Users/mikemykhaylov/.anaconda/envs/mat422/lib/python3.11/site-packages/sklearn/utils/validation.py:605: FutureWarning: is_sparse is deprecated and will be removed in a future version. Check `isinstance(dtype, pd.SparseDtype)` instead.\n",
      "  if is_sparse(pd_dtype):\n",
      "/Users/mikemykhaylov/.anaconda/envs/mat422/lib/python3.11/site-packages/sklearn/utils/validation.py:614: FutureWarning: is_sparse is deprecated and will be removed in a future version. Check `isinstance(dtype, pd.SparseDtype)` instead.\n",
      "  if is_sparse(pd_dtype) or not is_extension_array_dtype(pd_dtype):\n",
      "/Users/mikemykhaylov/.anaconda/envs/mat422/lib/python3.11/site-packages/sklearn/ensemble/_base.py:166: FutureWarning: `base_estimator` was renamed to `estimator` in version 1.2 and will be removed in 1.4.\n",
      "  warnings.warn(\n"
     ]
    },
    {
     "data": {
      "text/plain": "AdaBoostRegressor(base_estimator=DecisionTreeRegressor(max_depth=10),\n                  random_state=42)",
      "text/html": "<style>#sk-container-id-2 {color: black;background-color: white;}#sk-container-id-2 pre{padding: 0;}#sk-container-id-2 div.sk-toggleable {background-color: white;}#sk-container-id-2 label.sk-toggleable__label {cursor: pointer;display: block;width: 100%;margin-bottom: 0;padding: 0.3em;box-sizing: border-box;text-align: center;}#sk-container-id-2 label.sk-toggleable__label-arrow:before {content: \"▸\";float: left;margin-right: 0.25em;color: #696969;}#sk-container-id-2 label.sk-toggleable__label-arrow:hover:before {color: black;}#sk-container-id-2 div.sk-estimator:hover label.sk-toggleable__label-arrow:before {color: black;}#sk-container-id-2 div.sk-toggleable__content {max-height: 0;max-width: 0;overflow: hidden;text-align: left;background-color: #f0f8ff;}#sk-container-id-2 div.sk-toggleable__content pre {margin: 0.2em;color: black;border-radius: 0.25em;background-color: #f0f8ff;}#sk-container-id-2 input.sk-toggleable__control:checked~div.sk-toggleable__content {max-height: 200px;max-width: 100%;overflow: auto;}#sk-container-id-2 input.sk-toggleable__control:checked~label.sk-toggleable__label-arrow:before {content: \"▾\";}#sk-container-id-2 div.sk-estimator input.sk-toggleable__control:checked~label.sk-toggleable__label {background-color: #d4ebff;}#sk-container-id-2 div.sk-label input.sk-toggleable__control:checked~label.sk-toggleable__label {background-color: #d4ebff;}#sk-container-id-2 input.sk-hidden--visually {border: 0;clip: rect(1px 1px 1px 1px);clip: rect(1px, 1px, 1px, 1px);height: 1px;margin: -1px;overflow: hidden;padding: 0;position: absolute;width: 1px;}#sk-container-id-2 div.sk-estimator {font-family: monospace;background-color: #f0f8ff;border: 1px dotted black;border-radius: 0.25em;box-sizing: border-box;margin-bottom: 0.5em;}#sk-container-id-2 div.sk-estimator:hover {background-color: #d4ebff;}#sk-container-id-2 div.sk-parallel-item::after {content: \"\";width: 100%;border-bottom: 1px solid gray;flex-grow: 1;}#sk-container-id-2 div.sk-label:hover label.sk-toggleable__label {background-color: #d4ebff;}#sk-container-id-2 div.sk-serial::before {content: \"\";position: absolute;border-left: 1px solid gray;box-sizing: border-box;top: 0;bottom: 0;left: 50%;z-index: 0;}#sk-container-id-2 div.sk-serial {display: flex;flex-direction: column;align-items: center;background-color: white;padding-right: 0.2em;padding-left: 0.2em;position: relative;}#sk-container-id-2 div.sk-item {position: relative;z-index: 1;}#sk-container-id-2 div.sk-parallel {display: flex;align-items: stretch;justify-content: center;background-color: white;position: relative;}#sk-container-id-2 div.sk-item::before, #sk-container-id-2 div.sk-parallel-item::before {content: \"\";position: absolute;border-left: 1px solid gray;box-sizing: border-box;top: 0;bottom: 0;left: 50%;z-index: -1;}#sk-container-id-2 div.sk-parallel-item {display: flex;flex-direction: column;z-index: 1;position: relative;background-color: white;}#sk-container-id-2 div.sk-parallel-item:first-child::after {align-self: flex-end;width: 50%;}#sk-container-id-2 div.sk-parallel-item:last-child::after {align-self: flex-start;width: 50%;}#sk-container-id-2 div.sk-parallel-item:only-child::after {width: 0;}#sk-container-id-2 div.sk-dashed-wrapped {border: 1px dashed gray;margin: 0 0.4em 0.5em 0.4em;box-sizing: border-box;padding-bottom: 0.4em;background-color: white;}#sk-container-id-2 div.sk-label label {font-family: monospace;font-weight: bold;display: inline-block;line-height: 1.2em;}#sk-container-id-2 div.sk-label-container {text-align: center;}#sk-container-id-2 div.sk-container {/* jupyter's `normalize.less` sets `[hidden] { display: none; }` but bootstrap.min.css set `[hidden] { display: none !important; }` so we also need the `!important` here to be able to override the default hidden behavior on the sphinx rendered scikit-learn.org. See: https://github.com/scikit-learn/scikit-learn/issues/21755 */display: inline-block !important;position: relative;}#sk-container-id-2 div.sk-text-repr-fallback {display: none;}</style><div id=\"sk-container-id-2\" class=\"sk-top-container\"><div class=\"sk-text-repr-fallback\"><pre>AdaBoostRegressor(base_estimator=DecisionTreeRegressor(max_depth=10),\n                  random_state=42)</pre><b>In a Jupyter environment, please rerun this cell to show the HTML representation or trust the notebook. <br />On GitHub, the HTML representation is unable to render, please try loading this page with nbviewer.org.</b></div><div class=\"sk-container\" hidden><div class=\"sk-item sk-dashed-wrapped\"><div class=\"sk-label-container\"><div class=\"sk-label sk-toggleable\"><input class=\"sk-toggleable__control sk-hidden--visually\" id=\"sk-estimator-id-2\" type=\"checkbox\" ><label for=\"sk-estimator-id-2\" class=\"sk-toggleable__label sk-toggleable__label-arrow\">AdaBoostRegressor</label><div class=\"sk-toggleable__content\"><pre>AdaBoostRegressor(base_estimator=DecisionTreeRegressor(max_depth=10),\n                  random_state=42)</pre></div></div></div><div class=\"sk-parallel\"><div class=\"sk-parallel-item\"><div class=\"sk-item\"><div class=\"sk-label-container\"><div class=\"sk-label sk-toggleable\"><input class=\"sk-toggleable__control sk-hidden--visually\" id=\"sk-estimator-id-3\" type=\"checkbox\" ><label for=\"sk-estimator-id-3\" class=\"sk-toggleable__label sk-toggleable__label-arrow\">base_estimator: DecisionTreeRegressor</label><div class=\"sk-toggleable__content\"><pre>DecisionTreeRegressor(max_depth=10)</pre></div></div></div><div class=\"sk-serial\"><div class=\"sk-item\"><div class=\"sk-estimator sk-toggleable\"><input class=\"sk-toggleable__control sk-hidden--visually\" id=\"sk-estimator-id-4\" type=\"checkbox\" ><label for=\"sk-estimator-id-4\" class=\"sk-toggleable__label sk-toggleable__label-arrow\">DecisionTreeRegressor</label><div class=\"sk-toggleable__content\"><pre>DecisionTreeRegressor(max_depth=10)</pre></div></div></div></div></div></div></div></div></div></div>"
     },
     "execution_count": 11,
     "metadata": {},
     "output_type": "execute_result"
    }
   ],
   "source": [
    "# fit an Ada-Boosted Decision Tree Regressor model\n",
    "from sklearn.ensemble import AdaBoostRegressor\n",
    "from sklearn.tree import DecisionTreeRegressor\n",
    "\n",
    "abr = AdaBoostRegressor(\n",
    "    base_estimator=DecisionTreeRegressor(max_depth=10),\n",
    "    n_estimators=50,\n",
    "    learning_rate=1.0,\n",
    "    loss=\"linear\",  # \"linear\", \"square\", \"exponential\n",
    "    random_state=42,\n",
    ")\n",
    "\n",
    "abr.fit(X_train, y_train)\n"
   ],
   "metadata": {
    "collapsed": false,
    "ExecuteTime": {
     "end_time": "2023-11-26T23:16:47.812787Z",
     "start_time": "2023-11-26T23:16:46.433551Z"
    }
   }
  },
  {
   "cell_type": "code",
   "execution_count": 12,
   "outputs": [
    {
     "name": "stdout",
     "output_type": "stream",
     "text": [
      "RMSE: 2.195712\n"
     ]
    },
    {
     "name": "stderr",
     "output_type": "stream",
     "text": [
      "/Users/mikemykhaylov/.anaconda/envs/mat422/lib/python3.11/site-packages/sklearn/utils/validation.py:767: FutureWarning: is_sparse is deprecated and will be removed in a future version. Check `isinstance(dtype, pd.SparseDtype)` instead.\n",
      "  if not hasattr(array, \"sparse\") and array.dtypes.apply(is_sparse).any():\n",
      "/Users/mikemykhaylov/.anaconda/envs/mat422/lib/python3.11/site-packages/sklearn/utils/validation.py:605: FutureWarning: is_sparse is deprecated and will be removed in a future version. Check `isinstance(dtype, pd.SparseDtype)` instead.\n",
      "  if is_sparse(pd_dtype):\n",
      "/Users/mikemykhaylov/.anaconda/envs/mat422/lib/python3.11/site-packages/sklearn/utils/validation.py:614: FutureWarning: is_sparse is deprecated and will be removed in a future version. Check `isinstance(dtype, pd.SparseDtype)` instead.\n",
      "  if is_sparse(pd_dtype) or not is_extension_array_dtype(pd_dtype):\n",
      "/Users/mikemykhaylov/.anaconda/envs/mat422/lib/python3.11/site-packages/sklearn/utils/validation.py:605: FutureWarning: is_sparse is deprecated and will be removed in a future version. Check `isinstance(dtype, pd.SparseDtype)` instead.\n",
      "  if is_sparse(pd_dtype):\n",
      "/Users/mikemykhaylov/.anaconda/envs/mat422/lib/python3.11/site-packages/sklearn/utils/validation.py:614: FutureWarning: is_sparse is deprecated and will be removed in a future version. Check `isinstance(dtype, pd.SparseDtype)` instead.\n",
      "  if is_sparse(pd_dtype) or not is_extension_array_dtype(pd_dtype):\n"
     ]
    }
   ],
   "source": [
    "# predict on test set, calculate RMSE\n",
    "y_pred = abr.predict(X_test)\n",
    "rmse = np.sqrt(mean_squared_error(y_test, y_pred))\n",
    "print(\"RMSE: %f\" % (rmse))"
   ],
   "metadata": {
    "collapsed": false,
    "ExecuteTime": {
     "end_time": "2023-11-26T23:16:47.858008Z",
     "start_time": "2023-11-26T23:16:47.810162Z"
    }
   }
  },
  {
   "cell_type": "code",
   "execution_count": 13,
   "outputs": [],
   "source": [
    "# fit a neural network model\n",
    "import torch\n",
    "from torch import nn\n",
    "\n",
    "if torch.cuda.is_available():\n",
    "    device = torch.device(\"cuda\")\n",
    "elif torch.backends.mps.is_available():\n",
    "    device = torch.device(\"mps\")\n",
    "else:\n",
    "    device = torch.device(\"cpu\")\n",
    "\n",
    "class NeuralNet(nn.Module):\n",
    "    def __init__(self, input_size):\n",
    "        super(NeuralNet, self).__init__()\n",
    "        self.model = nn.Sequential(\n",
    "            nn.Linear(input_size, 64),\n",
    "            nn.ReLU(),\n",
    "            nn.Linear(64, 64),\n",
    "            nn.ReLU(),\n",
    "            nn.Linear(64, 1),\n",
    "        )\n",
    "        \n",
    "    def forward(self, x):\n",
    "        return self.model(x)\n",
    "    \n",
    "model = NeuralNet(X_train.shape[1]).to(device)"
   ],
   "metadata": {
    "collapsed": false,
    "ExecuteTime": {
     "end_time": "2023-11-26T23:16:54.542685Z",
     "start_time": "2023-11-26T23:16:47.848233Z"
    }
   }
  },
  {
   "cell_type": "code",
   "execution_count": 14,
   "outputs": [],
   "source": [
    "# wrap data in DataLoader\n",
    "from torch.utils.data import TensorDataset, DataLoader\n",
    "\n",
    "train_data = TensorDataset(torch.tensor(X_train.values).float(), torch.tensor(y_train.values).float())\n",
    "test_data = TensorDataset(torch.tensor(X_test.values).float(), torch.tensor(y_test.values).float())\n",
    "\n",
    "train_loader = DataLoader(train_data, batch_size=32, shuffle=True)\n",
    "test_loader = DataLoader(test_data, batch_size=32, shuffle=True)\n",
    "\n"
   ],
   "metadata": {
    "collapsed": false,
    "ExecuteTime": {
     "end_time": "2023-11-26T23:16:54.561691Z",
     "start_time": "2023-11-26T23:16:54.545498Z"
    }
   }
  },
  {
   "cell_type": "code",
   "execution_count": 15,
   "outputs": [],
   "source": [
    "loss_fn = nn.MSELoss()\n",
    "optimizer = torch.optim.Adam(model.parameters(), lr=0.001)"
   ],
   "metadata": {
    "collapsed": false,
    "ExecuteTime": {
     "end_time": "2023-11-26T23:16:55.201690Z",
     "start_time": "2023-11-26T23:16:54.563325Z"
    }
   }
  },
  {
   "cell_type": "code",
   "execution_count": 16,
   "outputs": [],
   "source": [
    "train_losses = []\n",
    "\n",
    "def train(model, train_loader, loss_fn, optimizer):\n",
    "    model.train()\n",
    "    train_loss = 0\n",
    "    for batch, (X, y) in enumerate(train_loader):\n",
    "        X, y = X.to(device), y.to(device)\n",
    "        y_pred = model(X)\n",
    "        loss = loss_fn(y_pred, y.unsqueeze(1))\n",
    "        loss.backward()\n",
    "        optimizer.step()\n",
    "        optimizer.zero_grad()\n",
    "        train_loss += loss.item()\n",
    "        \n",
    "        if batch % 10 == 0:\n",
    "            print(\"Batch %d, loss %f\" % (batch, loss.item()))\n",
    "    \n",
    "    train_loss /= len(train_loader)\n",
    "    train_losses.append(train_loss)\n",
    "            \n",
    "test_losses = []\n",
    "            \n",
    "def test(model, test_loader, loss_fn):\n",
    "    model.eval()\n",
    "    with torch.no_grad():\n",
    "        test_loss = 0\n",
    "        for batch, (X, y) in enumerate(test_loader):\n",
    "            X, y = X.to(device), y.to(device)\n",
    "            y_pred = model(X)\n",
    "            loss = loss_fn(y_pred, y.unsqueeze(1))\n",
    "            test_loss += loss.item()\n",
    "            \n",
    "        test_loss /= len(test_loader)\n",
    "        test_losses.append(test_loss)\n",
    "        print(\"Test loss %f\" % (test_loss))"
   ],
   "metadata": {
    "collapsed": false,
    "ExecuteTime": {
     "end_time": "2023-11-26T23:16:55.217317Z",
     "start_time": "2023-11-26T23:16:55.202665Z"
    }
   }
  },
  {
   "cell_type": "code",
   "execution_count": 17,
   "outputs": [
    {
     "name": "stdout",
     "output_type": "stream",
     "text": [
      "Epoch 1\n",
      "-------------------------------\n",
      "Batch 0, loss 110.133224\n",
      "Batch 10, loss 93.529556\n",
      "Batch 20, loss 93.000313\n",
      "Batch 30, loss 79.680603\n",
      "Batch 40, loss 70.702736\n",
      "Batch 50, loss 56.896008\n",
      "Batch 60, loss 24.716650\n",
      "Batch 70, loss 23.665768\n",
      "Batch 80, loss 23.406960\n",
      "Batch 90, loss 8.509052\n",
      "Test loss 17.886868\n",
      "Epoch 2\n",
      "-------------------------------\n",
      "Batch 0, loss 17.715178\n",
      "Batch 10, loss 22.470272\n",
      "Batch 20, loss 12.709365\n",
      "Batch 30, loss 8.247774\n",
      "Batch 40, loss 8.293735\n",
      "Batch 50, loss 6.638318\n",
      "Batch 60, loss 104.844078\n",
      "Batch 70, loss 5.876276\n",
      "Batch 80, loss 4.177784\n",
      "Batch 90, loss 7.574068\n",
      "Test loss 5.558478\n",
      "Epoch 3\n",
      "-------------------------------\n",
      "Batch 0, loss 5.289333\n",
      "Batch 10, loss 3.170969\n",
      "Batch 20, loss 2.580031\n",
      "Batch 30, loss 4.447484\n",
      "Batch 40, loss 4.384317\n",
      "Batch 50, loss 4.903730\n",
      "Batch 60, loss 5.219054\n",
      "Batch 70, loss 3.661171\n",
      "Batch 80, loss 5.828240\n",
      "Batch 90, loss 3.484561\n",
      "Test loss 5.268688\n",
      "Epoch 4\n",
      "-------------------------------\n",
      "Batch 0, loss 4.107241\n",
      "Batch 10, loss 3.936965\n",
      "Batch 20, loss 1.661908\n",
      "Batch 30, loss 4.056522\n",
      "Batch 40, loss 10.822299\n",
      "Batch 50, loss 58.548386\n",
      "Batch 60, loss 8.751365\n",
      "Batch 70, loss 12.968405\n",
      "Batch 80, loss 5.471689\n",
      "Batch 90, loss 4.220879\n",
      "Test loss 4.812454\n",
      "Epoch 5\n",
      "-------------------------------\n",
      "Batch 0, loss 4.900207\n",
      "Batch 10, loss 2.808947\n",
      "Batch 20, loss 3.954069\n",
      "Batch 30, loss 5.342849\n",
      "Batch 40, loss 3.057900\n",
      "Batch 50, loss 4.655061\n",
      "Batch 60, loss 4.134700\n",
      "Batch 70, loss 2.140320\n",
      "Batch 80, loss 3.638841\n",
      "Batch 90, loss 7.713291\n",
      "Test loss 4.948307\n",
      "Epoch 6\n",
      "-------------------------------\n",
      "Batch 0, loss 4.176385\n",
      "Batch 10, loss 4.103489\n",
      "Batch 20, loss 5.819716\n",
      "Batch 30, loss 4.458100\n",
      "Batch 40, loss 2.819060\n",
      "Batch 50, loss 2.253900\n",
      "Batch 60, loss 2.852901\n",
      "Batch 70, loss 2.679962\n",
      "Batch 80, loss 7.787022\n",
      "Batch 90, loss 4.729629\n",
      "Test loss 4.804835\n",
      "Epoch 7\n",
      "-------------------------------\n",
      "Batch 0, loss 2.912665\n",
      "Batch 10, loss 3.561723\n",
      "Batch 20, loss 7.242581\n",
      "Batch 30, loss 3.682353\n",
      "Batch 40, loss 4.461544\n",
      "Batch 50, loss 3.518330\n",
      "Batch 60, loss 9.357687\n",
      "Batch 70, loss 6.347011\n",
      "Batch 80, loss 3.094031\n",
      "Batch 90, loss 4.621684\n",
      "Test loss 4.669282\n",
      "Epoch 8\n",
      "-------------------------------\n",
      "Batch 0, loss 3.298507\n",
      "Batch 10, loss 3.454715\n",
      "Batch 20, loss 18.444313\n",
      "Batch 30, loss 5.513936\n",
      "Batch 40, loss 3.459425\n",
      "Batch 50, loss 5.279633\n",
      "Batch 60, loss 12.901640\n",
      "Batch 70, loss 4.162474\n",
      "Batch 80, loss 3.731110\n",
      "Batch 90, loss 8.321895\n",
      "Test loss 4.640040\n",
      "Epoch 9\n",
      "-------------------------------\n",
      "Batch 0, loss 2.447094\n",
      "Batch 10, loss 2.655085\n",
      "Batch 20, loss 6.302538\n",
      "Batch 30, loss 4.114903\n",
      "Batch 40, loss 4.528107\n",
      "Batch 50, loss 3.893696\n",
      "Batch 60, loss 5.603370\n",
      "Batch 70, loss 3.673304\n",
      "Batch 80, loss 6.883038\n",
      "Batch 90, loss 4.689034\n",
      "Test loss 4.808004\n",
      "Epoch 10\n",
      "-------------------------------\n",
      "Batch 0, loss 5.147423\n",
      "Batch 10, loss 4.055418\n",
      "Batch 20, loss 4.149889\n",
      "Batch 30, loss 3.109751\n",
      "Batch 40, loss 2.846732\n",
      "Batch 50, loss 4.574814\n",
      "Batch 60, loss 2.359123\n",
      "Batch 70, loss 2.597413\n",
      "Batch 80, loss 4.023762\n",
      "Batch 90, loss 5.645871\n",
      "Test loss 4.580417\n",
      "Epoch 11\n",
      "-------------------------------\n",
      "Batch 0, loss 3.396672\n",
      "Batch 10, loss 4.573570\n",
      "Batch 20, loss 4.926395\n",
      "Batch 30, loss 3.164748\n",
      "Batch 40, loss 4.227163\n",
      "Batch 50, loss 5.826826\n",
      "Batch 60, loss 5.539601\n",
      "Batch 70, loss 5.453980\n",
      "Batch 80, loss 5.196661\n",
      "Batch 90, loss 2.922024\n",
      "Test loss 4.476232\n",
      "Epoch 12\n",
      "-------------------------------\n",
      "Batch 0, loss 3.573573\n",
      "Batch 10, loss 4.268842\n",
      "Batch 20, loss 4.781860\n",
      "Batch 30, loss 3.694332\n",
      "Batch 40, loss 4.565062\n",
      "Batch 50, loss 2.015623\n",
      "Batch 60, loss 5.146578\n",
      "Batch 70, loss 5.854094\n",
      "Batch 80, loss 2.044713\n",
      "Batch 90, loss 3.439513\n",
      "Test loss 4.482444\n",
      "Epoch 13\n",
      "-------------------------------\n",
      "Batch 0, loss 2.808367\n",
      "Batch 10, loss 5.712822\n",
      "Batch 20, loss 3.667131\n",
      "Batch 30, loss 6.386415\n",
      "Batch 40, loss 3.766805\n",
      "Batch 50, loss 5.025058\n",
      "Batch 60, loss 4.910519\n",
      "Batch 70, loss 4.982287\n",
      "Batch 80, loss 4.334885\n",
      "Batch 90, loss 3.850390\n",
      "Test loss 4.543330\n",
      "Epoch 14\n",
      "-------------------------------\n",
      "Batch 0, loss 5.973458\n",
      "Batch 10, loss 6.155814\n",
      "Batch 20, loss 5.328320\n",
      "Batch 30, loss 3.406815\n",
      "Batch 40, loss 5.134458\n",
      "Batch 50, loss 3.813250\n",
      "Batch 60, loss 5.078513\n",
      "Batch 70, loss 3.675977\n",
      "Batch 80, loss 4.592683\n",
      "Batch 90, loss 5.636295\n",
      "Test loss 4.558537\n",
      "Epoch 15\n",
      "-------------------------------\n",
      "Batch 0, loss 5.183131\n",
      "Batch 10, loss 5.884901\n",
      "Batch 20, loss 5.846826\n",
      "Batch 30, loss 6.661277\n",
      "Batch 40, loss 4.074239\n",
      "Batch 50, loss 4.179689\n",
      "Batch 60, loss 2.652935\n",
      "Batch 70, loss 6.843707\n",
      "Batch 80, loss 6.176819\n",
      "Batch 90, loss 2.422469\n",
      "Test loss 4.469913\n",
      "Epoch 16\n",
      "-------------------------------\n",
      "Batch 0, loss 7.238200\n",
      "Batch 10, loss 3.389536\n",
      "Batch 20, loss 2.068746\n",
      "Batch 30, loss 2.315249\n",
      "Batch 40, loss 7.149343\n",
      "Batch 50, loss 5.998139\n",
      "Batch 60, loss 5.446089\n",
      "Batch 70, loss 4.907316\n",
      "Batch 80, loss 4.554516\n",
      "Batch 90, loss 4.065926\n",
      "Test loss 4.444945\n",
      "Epoch 17\n",
      "-------------------------------\n",
      "Batch 0, loss 4.882316\n",
      "Batch 10, loss 6.592393\n",
      "Batch 20, loss 4.397387\n",
      "Batch 30, loss 5.059782\n",
      "Batch 40, loss 2.949000\n",
      "Batch 50, loss 3.364430\n",
      "Batch 60, loss 4.240428\n",
      "Batch 70, loss 7.894182\n",
      "Batch 80, loss 3.618369\n",
      "Batch 90, loss 4.216695\n",
      "Test loss 4.416162\n",
      "Epoch 18\n",
      "-------------------------------\n",
      "Batch 0, loss 3.514362\n",
      "Batch 10, loss 9.646433\n",
      "Batch 20, loss 3.963665\n",
      "Batch 30, loss 2.909026\n",
      "Batch 40, loss 1.556346\n",
      "Batch 50, loss 4.709764\n",
      "Batch 60, loss 3.586153\n",
      "Batch 70, loss 7.224467\n",
      "Batch 80, loss 3.477852\n",
      "Batch 90, loss 3.324638\n",
      "Test loss 4.432617\n",
      "Epoch 19\n",
      "-------------------------------\n",
      "Batch 0, loss 2.442988\n",
      "Batch 10, loss 6.216095\n",
      "Batch 20, loss 2.143760\n",
      "Batch 30, loss 2.541650\n",
      "Batch 40, loss 1.786575\n",
      "Batch 50, loss 4.256664\n",
      "Batch 60, loss 4.471454\n",
      "Batch 70, loss 5.662928\n",
      "Batch 80, loss 6.624942\n",
      "Batch 90, loss 7.237610\n",
      "Test loss 4.431148\n",
      "Epoch 20\n",
      "-------------------------------\n",
      "Batch 0, loss 3.507468\n",
      "Batch 10, loss 3.420385\n",
      "Batch 20, loss 5.367647\n",
      "Batch 30, loss 2.627007\n",
      "Batch 40, loss 3.038435\n",
      "Batch 50, loss 2.079335\n",
      "Batch 60, loss 3.003778\n",
      "Batch 70, loss 4.409194\n",
      "Batch 80, loss 4.809700\n",
      "Batch 90, loss 3.425044\n",
      "Test loss 4.616605\n",
      "Done!\n"
     ]
    }
   ],
   "source": [
    "epochs = 20\n",
    "for t in range(epochs):\n",
    "    print(f\"Epoch {t+1}\\n-------------------------------\")\n",
    "    train(model, train_loader, loss_fn, optimizer)\n",
    "    test(model, test_loader, loss_fn)\n",
    "print(\"Done!\")"
   ],
   "metadata": {
    "collapsed": false,
    "ExecuteTime": {
     "end_time": "2023-11-26T23:17:54.965532Z",
     "start_time": "2023-11-26T23:16:55.218637Z"
    }
   }
  },
  {
   "cell_type": "code",
   "execution_count": 18,
   "outputs": [
    {
     "name": "stdout",
     "output_type": "stream",
     "text": [
      "RMSE: 2.113594\n"
     ]
    },
    {
     "name": "stderr",
     "output_type": "stream",
     "text": [
      "/Users/mikemykhaylov/.anaconda/envs/mat422/lib/python3.11/site-packages/sklearn/utils/validation.py:605: FutureWarning: is_sparse is deprecated and will be removed in a future version. Check `isinstance(dtype, pd.SparseDtype)` instead.\n",
      "  if is_sparse(pd_dtype):\n",
      "/Users/mikemykhaylov/.anaconda/envs/mat422/lib/python3.11/site-packages/sklearn/utils/validation.py:614: FutureWarning: is_sparse is deprecated and will be removed in a future version. Check `isinstance(dtype, pd.SparseDtype)` instead.\n",
      "  if is_sparse(pd_dtype) or not is_extension_array_dtype(pd_dtype):\n"
     ]
    }
   ],
   "source": [
    "# predict on test set, calculate RMSE\n",
    "y_pred = model(torch.tensor(X_test.values).float().to(device))\n",
    "rmse = np.sqrt(mean_squared_error(y_test, y_pred.cpu().detach().numpy()))\n",
    "print(\"RMSE: %f\" % (rmse))"
   ],
   "metadata": {
    "collapsed": false,
    "ExecuteTime": {
     "end_time": "2023-11-26T23:17:55.097754Z",
     "start_time": "2023-11-26T23:17:54.960707Z"
    }
   }
  },
  {
   "cell_type": "code",
   "execution_count": 22,
   "outputs": [
    {
     "data": {
      "text/plain": "<Figure size 640x480 with 1 Axes>",
      "image/png": "[encoded data removed]"
     },
     "metadata": {},
     "output_type": "display_data"
    }
   ],
   "source": [
    "# plot train and test losses\n",
    "plt.plot(train_losses, label=\"Train loss\")\n",
    "plt.plot(test_losses, label=\"Test loss\")\n",
    "plt.legend()\n",
    "plt.savefig(\"loss.png\")"
   ],
   "metadata": {
    "collapsed": false,
    "ExecuteTime": {
     "end_time": "2023-11-26T23:19:00.628379Z",
     "start_time": "2023-11-26T23:18:59.853026Z"
    }
   }
  },
  {
   "cell_type": "code",
   "execution_count": null,
   "outputs": [],
   "source": [],
   "metadata": {
    "collapsed": false
   }
  }
 ],
 "metadata": {
  "kernelspec": {
   "display_name": "base",
   "language": "python",
   "name": "python3"
  },
  "language_info": {
   "codemirror_mode": {
    "name": "ipython",
    "version": 3
   },
   "file_extension": ".py",
   "mimetype": "text/x-python",
   "name": "python",
   "nbconvert_exporter": "python",
   "pygments_lexer": "ipython3",
   "version": "3.11.5"
  }
 },
 "nbformat": 4,
 "nbformat_minor": 2
}
