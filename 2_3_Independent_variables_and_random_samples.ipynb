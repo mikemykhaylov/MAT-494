{
 "cells": [
  {
   "cell_type": "markdown",
   "metadata": {
    "id": "view-in-github",
    "colab_type": "text"
   },
   "source": [
    "<a href=\"https://colab.research.google.com/github/mikemykhaylov/MAT-494/blob/main/2_3_Independent_variables_and_random_samples.ipynb\" target=\"_parent\"><img src=\"https://colab.research.google.com/assets/colab-badge.svg\" alt=\"Open In Colab\"/></a>"
   ]
  },
  {
   "cell_type": "code",
   "execution_count": 1,
   "metadata": {
    "colab": {
     "base_uri": "https://localhost:8080/"
    },
    "id": "1MYMEunEtkLn",
    "outputId": "320cbadb-7b1e-4fa8-8f38-f537247ba0f4"
   },
   "outputs": [
    {
     "output_type": "stream",
     "name": "stdout",
     "text": [
      "Requirement already satisfied: numpy in /usr/local/lib/python3.10/dist-packages (1.23.5)\n",
      "Requirement already satisfied: seaborn in /usr/local/lib/python3.10/dist-packages (0.12.2)\n",
      "Requirement already satisfied: scipy in /usr/local/lib/python3.10/dist-packages (1.11.2)\n",
      "Requirement already satisfied: matplotlib in /usr/local/lib/python3.10/dist-packages (3.7.1)\n",
      "Collecting ipympl\n",
      "  Downloading ipympl-0.9.3-py2.py3-none-any.whl (511 kB)\n",
      "\u001b[2K     \u001b[90m━━━━━━━━━━━━━━━━━━━━━━━━━━━━━━━━━━━━━━━\u001b[0m \u001b[32m511.6/511.6 kB\u001b[0m \u001b[31m6.7 MB/s\u001b[0m eta \u001b[36m0:00:00\u001b[0m\n",
      "\u001b[?25hRequirement already satisfied: pillow in /usr/local/lib/python3.10/dist-packages (9.4.0)\n",
      "Requirement already satisfied: scikit-learn in /usr/local/lib/python3.10/dist-packages (1.2.2)\n",
      "Requirement already satisfied: requests in /usr/local/lib/python3.10/dist-packages (2.31.0)\n",
      "Requirement already satisfied: pandas>=0.25 in /usr/local/lib/python3.10/dist-packages (from seaborn) (1.5.3)\n",
      "Requirement already satisfied: contourpy>=1.0.1 in /usr/local/lib/python3.10/dist-packages (from matplotlib) (1.1.0)\n",
      "Requirement already satisfied: cycler>=0.10 in /usr/local/lib/python3.10/dist-packages (from matplotlib) (0.11.0)\n",
      "Requirement already satisfied: fonttools>=4.22.0 in /usr/local/lib/python3.10/dist-packages (from matplotlib) (4.42.1)\n",
      "Requirement already satisfied: kiwisolver>=1.0.1 in /usr/local/lib/python3.10/dist-packages (from matplotlib) (1.4.5)\n",
      "Requirement already satisfied: packaging>=20.0 in /usr/local/lib/python3.10/dist-packages (from matplotlib) (23.1)\n",
      "Requirement already satisfied: pyparsing>=2.3.1 in /usr/local/lib/python3.10/dist-packages (from matplotlib) (3.1.1)\n",
      "Requirement already satisfied: python-dateutil>=2.7 in /usr/local/lib/python3.10/dist-packages (from matplotlib) (2.8.2)\n",
      "Requirement already satisfied: ipython<9 in /usr/local/lib/python3.10/dist-packages (from ipympl) (7.34.0)\n",
      "Requirement already satisfied: ipython-genutils in /usr/local/lib/python3.10/dist-packages (from ipympl) (0.2.0)\n",
      "Requirement already satisfied: traitlets<6 in /usr/local/lib/python3.10/dist-packages (from ipympl) (5.7.1)\n",
      "Requirement already satisfied: ipywidgets<9,>=7.6.0 in /usr/local/lib/python3.10/dist-packages (from ipympl) (7.7.1)\n",
      "Requirement already satisfied: joblib>=1.1.1 in /usr/local/lib/python3.10/dist-packages (from scikit-learn) (1.3.2)\n",
      "Requirement already satisfied: threadpoolctl>=2.0.0 in /usr/local/lib/python3.10/dist-packages (from scikit-learn) (3.2.0)\n",
      "Requirement already satisfied: charset-normalizer<4,>=2 in /usr/local/lib/python3.10/dist-packages (from requests) (3.2.0)\n",
      "Requirement already satisfied: idna<4,>=2.5 in /usr/local/lib/python3.10/dist-packages (from requests) (3.4)\n",
      "Requirement already satisfied: urllib3<3,>=1.21.1 in /usr/local/lib/python3.10/dist-packages (from requests) (2.0.4)\n",
      "Requirement already satisfied: certifi>=2017.4.17 in /usr/local/lib/python3.10/dist-packages (from requests) (2023.7.22)\n",
      "Requirement already satisfied: setuptools>=18.5 in /usr/local/lib/python3.10/dist-packages (from ipython<9->ipympl) (67.7.2)\n",
      "Collecting jedi>=0.16 (from ipython<9->ipympl)\n",
      "  Downloading jedi-0.19.0-py2.py3-none-any.whl (1.6 MB)\n",
      "\u001b[2K     \u001b[90m━━━━━━━━━━━━━━━━━━━━━━━━━━━━━━━━━━━━━━━━\u001b[0m \u001b[32m1.6/1.6 MB\u001b[0m \u001b[31m37.9 MB/s\u001b[0m eta \u001b[36m0:00:00\u001b[0m\n",
      "\u001b[?25hRequirement already satisfied: decorator in /usr/local/lib/python3.10/dist-packages (from ipython<9->ipympl) (4.4.2)\n",
      "Requirement already satisfied: pickleshare in /usr/local/lib/python3.10/dist-packages (from ipython<9->ipympl) (0.7.5)\n",
      "Requirement already satisfied: prompt-toolkit!=3.0.0,!=3.0.1,<3.1.0,>=2.0.0 in /usr/local/lib/python3.10/dist-packages (from ipython<9->ipympl) (3.0.39)\n",
      "Requirement already satisfied: pygments in /usr/local/lib/python3.10/dist-packages (from ipython<9->ipympl) (2.16.1)\n",
      "Requirement already satisfied: backcall in /usr/local/lib/python3.10/dist-packages (from ipython<9->ipympl) (0.2.0)\n",
      "Requirement already satisfied: matplotlib-inline in /usr/local/lib/python3.10/dist-packages (from ipython<9->ipympl) (0.1.6)\n",
      "Requirement already satisfied: pexpect>4.3 in /usr/local/lib/python3.10/dist-packages (from ipython<9->ipympl) (4.8.0)\n",
      "Requirement already satisfied: ipykernel>=4.5.1 in /usr/local/lib/python3.10/dist-packages (from ipywidgets<9,>=7.6.0->ipympl) (5.5.6)\n",
      "Requirement already satisfied: widgetsnbextension~=3.6.0 in /usr/local/lib/python3.10/dist-packages (from ipywidgets<9,>=7.6.0->ipympl) (3.6.5)\n",
      "Requirement already satisfied: jupyterlab-widgets>=1.0.0 in /usr/local/lib/python3.10/dist-packages (from ipywidgets<9,>=7.6.0->ipympl) (3.0.8)\n",
      "Requirement already satisfied: pytz>=2020.1 in /usr/local/lib/python3.10/dist-packages (from pandas>=0.25->seaborn) (2023.3.post1)\n",
      "Requirement already satisfied: six>=1.5 in /usr/local/lib/python3.10/dist-packages (from python-dateutil>=2.7->matplotlib) (1.16.0)\n",
      "Requirement already satisfied: jupyter-client in /usr/local/lib/python3.10/dist-packages (from ipykernel>=4.5.1->ipywidgets<9,>=7.6.0->ipympl) (6.1.12)\n",
      "Requirement already satisfied: tornado>=4.2 in /usr/local/lib/python3.10/dist-packages (from ipykernel>=4.5.1->ipywidgets<9,>=7.6.0->ipympl) (6.3.2)\n",
      "Requirement already satisfied: parso<0.9.0,>=0.8.3 in /usr/local/lib/python3.10/dist-packages (from jedi>=0.16->ipython<9->ipympl) (0.8.3)\n",
      "Requirement already satisfied: ptyprocess>=0.5 in /usr/local/lib/python3.10/dist-packages (from pexpect>4.3->ipython<9->ipympl) (0.7.0)\n",
      "Requirement already satisfied: wcwidth in /usr/local/lib/python3.10/dist-packages (from prompt-toolkit!=3.0.0,!=3.0.1,<3.1.0,>=2.0.0->ipython<9->ipympl) (0.2.6)\n",
      "Requirement already satisfied: notebook>=4.4.1 in /usr/local/lib/python3.10/dist-packages (from widgetsnbextension~=3.6.0->ipywidgets<9,>=7.6.0->ipympl) (6.5.5)\n",
      "Requirement already satisfied: jinja2 in /usr/local/lib/python3.10/dist-packages (from notebook>=4.4.1->widgetsnbextension~=3.6.0->ipywidgets<9,>=7.6.0->ipympl) (3.1.2)\n",
      "Requirement already satisfied: pyzmq<25,>=17 in /usr/local/lib/python3.10/dist-packages (from notebook>=4.4.1->widgetsnbextension~=3.6.0->ipywidgets<9,>=7.6.0->ipympl) (23.2.1)\n",
      "Requirement already satisfied: argon2-cffi in /usr/local/lib/python3.10/dist-packages (from notebook>=4.4.1->widgetsnbextension~=3.6.0->ipywidgets<9,>=7.6.0->ipympl) (23.1.0)\n",
      "Requirement already satisfied: jupyter-core>=4.6.1 in /usr/local/lib/python3.10/dist-packages (from notebook>=4.4.1->widgetsnbextension~=3.6.0->ipywidgets<9,>=7.6.0->ipympl) (5.3.1)\n",
      "Requirement already satisfied: nbformat in /usr/local/lib/python3.10/dist-packages (from notebook>=4.4.1->widgetsnbextension~=3.6.0->ipywidgets<9,>=7.6.0->ipympl) (5.9.2)\n",
      "Requirement already satisfied: nbconvert>=5 in /usr/local/lib/python3.10/dist-packages (from notebook>=4.4.1->widgetsnbextension~=3.6.0->ipywidgets<9,>=7.6.0->ipympl) (6.5.4)\n",
      "Requirement already satisfied: nest-asyncio>=1.5 in /usr/local/lib/python3.10/dist-packages (from notebook>=4.4.1->widgetsnbextension~=3.6.0->ipywidgets<9,>=7.6.0->ipympl) (1.5.7)\n",
      "Requirement already satisfied: Send2Trash>=1.8.0 in /usr/local/lib/python3.10/dist-packages (from notebook>=4.4.1->widgetsnbextension~=3.6.0->ipywidgets<9,>=7.6.0->ipympl) (1.8.2)\n",
      "Requirement already satisfied: terminado>=0.8.3 in /usr/local/lib/python3.10/dist-packages (from notebook>=4.4.1->widgetsnbextension~=3.6.0->ipywidgets<9,>=7.6.0->ipympl) (0.17.1)\n",
      "Requirement already satisfied: prometheus-client in /usr/local/lib/python3.10/dist-packages (from notebook>=4.4.1->widgetsnbextension~=3.6.0->ipywidgets<9,>=7.6.0->ipympl) (0.17.1)\n",
      "Requirement already satisfied: nbclassic>=0.4.7 in /usr/local/lib/python3.10/dist-packages (from notebook>=4.4.1->widgetsnbextension~=3.6.0->ipywidgets<9,>=7.6.0->ipympl) (1.0.0)\n",
      "Requirement already satisfied: platformdirs>=2.5 in /usr/local/lib/python3.10/dist-packages (from jupyter-core>=4.6.1->notebook>=4.4.1->widgetsnbextension~=3.6.0->ipywidgets<9,>=7.6.0->ipympl) (3.10.0)\n",
      "Requirement already satisfied: jupyter-server>=1.8 in /usr/local/lib/python3.10/dist-packages (from nbclassic>=0.4.7->notebook>=4.4.1->widgetsnbextension~=3.6.0->ipywidgets<9,>=7.6.0->ipympl) (1.24.0)\n",
      "Requirement already satisfied: notebook-shim>=0.2.3 in /usr/local/lib/python3.10/dist-packages (from nbclassic>=0.4.7->notebook>=4.4.1->widgetsnbextension~=3.6.0->ipywidgets<9,>=7.6.0->ipympl) (0.2.3)\n",
      "Requirement already satisfied: lxml in /usr/local/lib/python3.10/dist-packages (from nbconvert>=5->notebook>=4.4.1->widgetsnbextension~=3.6.0->ipywidgets<9,>=7.6.0->ipympl) (4.9.3)\n",
      "Requirement already satisfied: beautifulsoup4 in /usr/local/lib/python3.10/dist-packages (from nbconvert>=5->notebook>=4.4.1->widgetsnbextension~=3.6.0->ipywidgets<9,>=7.6.0->ipympl) (4.11.2)\n",
      "Requirement already satisfied: bleach in /usr/local/lib/python3.10/dist-packages (from nbconvert>=5->notebook>=4.4.1->widgetsnbextension~=3.6.0->ipywidgets<9,>=7.6.0->ipympl) (6.0.0)\n",
      "Requirement already satisfied: defusedxml in /usr/local/lib/python3.10/dist-packages (from nbconvert>=5->notebook>=4.4.1->widgetsnbextension~=3.6.0->ipywidgets<9,>=7.6.0->ipympl) (0.7.1)\n",
      "Requirement already satisfied: entrypoints>=0.2.2 in /usr/local/lib/python3.10/dist-packages (from nbconvert>=5->notebook>=4.4.1->widgetsnbextension~=3.6.0->ipywidgets<9,>=7.6.0->ipympl) (0.4)\n",
      "Requirement already satisfied: jupyterlab-pygments in /usr/local/lib/python3.10/dist-packages (from nbconvert>=5->notebook>=4.4.1->widgetsnbextension~=3.6.0->ipywidgets<9,>=7.6.0->ipympl) (0.2.2)\n",
      "Requirement already satisfied: MarkupSafe>=2.0 in /usr/local/lib/python3.10/dist-packages (from nbconvert>=5->notebook>=4.4.1->widgetsnbextension~=3.6.0->ipywidgets<9,>=7.6.0->ipympl) (2.1.3)\n",
      "Requirement already satisfied: mistune<2,>=0.8.1 in /usr/local/lib/python3.10/dist-packages (from nbconvert>=5->notebook>=4.4.1->widgetsnbextension~=3.6.0->ipywidgets<9,>=7.6.0->ipympl) (0.8.4)\n",
      "Requirement already satisfied: nbclient>=0.5.0 in /usr/local/lib/python3.10/dist-packages (from nbconvert>=5->notebook>=4.4.1->widgetsnbextension~=3.6.0->ipywidgets<9,>=7.6.0->ipympl) (0.8.0)\n",
      "Requirement already satisfied: pandocfilters>=1.4.1 in /usr/local/lib/python3.10/dist-packages (from nbconvert>=5->notebook>=4.4.1->widgetsnbextension~=3.6.0->ipywidgets<9,>=7.6.0->ipympl) (1.5.0)\n",
      "Requirement already satisfied: tinycss2 in /usr/local/lib/python3.10/dist-packages (from nbconvert>=5->notebook>=4.4.1->widgetsnbextension~=3.6.0->ipywidgets<9,>=7.6.0->ipympl) (1.2.1)\n",
      "Requirement already satisfied: fastjsonschema in /usr/local/lib/python3.10/dist-packages (from nbformat->notebook>=4.4.1->widgetsnbextension~=3.6.0->ipywidgets<9,>=7.6.0->ipympl) (2.18.0)\n",
      "Requirement already satisfied: jsonschema>=2.6 in /usr/local/lib/python3.10/dist-packages (from nbformat->notebook>=4.4.1->widgetsnbextension~=3.6.0->ipywidgets<9,>=7.6.0->ipympl) (4.19.0)\n",
      "Requirement already satisfied: argon2-cffi-bindings in /usr/local/lib/python3.10/dist-packages (from argon2-cffi->notebook>=4.4.1->widgetsnbextension~=3.6.0->ipywidgets<9,>=7.6.0->ipympl) (21.2.0)\n",
      "Requirement already satisfied: attrs>=22.2.0 in /usr/local/lib/python3.10/dist-packages (from jsonschema>=2.6->nbformat->notebook>=4.4.1->widgetsnbextension~=3.6.0->ipywidgets<9,>=7.6.0->ipympl) (23.1.0)\n",
      "Requirement already satisfied: jsonschema-specifications>=2023.03.6 in /usr/local/lib/python3.10/dist-packages (from jsonschema>=2.6->nbformat->notebook>=4.4.1->widgetsnbextension~=3.6.0->ipywidgets<9,>=7.6.0->ipympl) (2023.7.1)\n",
      "Requirement already satisfied: referencing>=0.28.4 in /usr/local/lib/python3.10/dist-packages (from jsonschema>=2.6->nbformat->notebook>=4.4.1->widgetsnbextension~=3.6.0->ipywidgets<9,>=7.6.0->ipympl) (0.30.2)\n",
      "Requirement already satisfied: rpds-py>=0.7.1 in /usr/local/lib/python3.10/dist-packages (from jsonschema>=2.6->nbformat->notebook>=4.4.1->widgetsnbextension~=3.6.0->ipywidgets<9,>=7.6.0->ipympl) (0.10.2)\n",
      "Requirement already satisfied: anyio<4,>=3.1.0 in /usr/local/lib/python3.10/dist-packages (from jupyter-server>=1.8->nbclassic>=0.4.7->notebook>=4.4.1->widgetsnbextension~=3.6.0->ipywidgets<9,>=7.6.0->ipympl) (3.7.1)\n",
      "Requirement already satisfied: websocket-client in /usr/local/lib/python3.10/dist-packages (from jupyter-server>=1.8->nbclassic>=0.4.7->notebook>=4.4.1->widgetsnbextension~=3.6.0->ipywidgets<9,>=7.6.0->ipympl) (1.6.2)\n",
      "Requirement already satisfied: cffi>=1.0.1 in /usr/local/lib/python3.10/dist-packages (from argon2-cffi-bindings->argon2-cffi->notebook>=4.4.1->widgetsnbextension~=3.6.0->ipywidgets<9,>=7.6.0->ipympl) (1.15.1)\n",
      "Requirement already satisfied: soupsieve>1.2 in /usr/local/lib/python3.10/dist-packages (from beautifulsoup4->nbconvert>=5->notebook>=4.4.1->widgetsnbextension~=3.6.0->ipywidgets<9,>=7.6.0->ipympl) (2.5)\n",
      "Requirement already satisfied: webencodings in /usr/local/lib/python3.10/dist-packages (from bleach->nbconvert>=5->notebook>=4.4.1->widgetsnbextension~=3.6.0->ipywidgets<9,>=7.6.0->ipympl) (0.5.1)\n",
      "Requirement already satisfied: sniffio>=1.1 in /usr/local/lib/python3.10/dist-packages (from anyio<4,>=3.1.0->jupyter-server>=1.8->nbclassic>=0.4.7->notebook>=4.4.1->widgetsnbextension~=3.6.0->ipywidgets<9,>=7.6.0->ipympl) (1.3.0)\n",
      "Requirement already satisfied: exceptiongroup in /usr/local/lib/python3.10/dist-packages (from anyio<4,>=3.1.0->jupyter-server>=1.8->nbclassic>=0.4.7->notebook>=4.4.1->widgetsnbextension~=3.6.0->ipywidgets<9,>=7.6.0->ipympl) (1.1.3)\n",
      "Requirement already satisfied: pycparser in /usr/local/lib/python3.10/dist-packages (from cffi>=1.0.1->argon2-cffi-bindings->argon2-cffi->notebook>=4.4.1->widgetsnbextension~=3.6.0->ipywidgets<9,>=7.6.0->ipympl) (2.21)\n",
      "Installing collected packages: jedi, ipympl\n",
      "Successfully installed ipympl-0.9.3 jedi-0.19.0\n"
     ]
    }
   ],
   "source": [
    "%pip install numpy seaborn scipy matplotlib ipympl pillow scikit-learn requests"
   ]
  },
  {
   "cell_type": "code",
   "execution_count": 2,
   "metadata": {
    "id": "85p618S_t7j5"
   },
   "outputs": [],
   "source": [
    "from google.colab import output\n",
    "\n",
    "output.enable_custom_widget_manager()"
   ]
  },
  {
   "cell_type": "code",
   "execution_count": 3,
   "metadata": {
    "id": "X9GWMxyJtkLp"
   },
   "outputs": [],
   "source": [
    "import numpy as np\n",
    "import matplotlib.pyplot as plt"
   ]
  },
  {
   "cell_type": "code",
   "execution_count": 4,
   "metadata": {
    "id": "UsTVBGsStkLq"
   },
   "outputs": [],
   "source": [
    "%matplotlib widget"
   ]
  },
  {
   "cell_type": "markdown",
   "metadata": {
    "id": "gFRvSmNftkLq"
   },
   "source": [
    "# 2.2 Independent variables and random samples\n",
    "\n",
    "Topics of this chapter\n",
    "- Joint probability distributions\n",
    "- Correlation and dependence\n",
    "- Random samples"
   ]
  },
  {
   "cell_type": "markdown",
   "metadata": {
    "id": "TT2OusF4tkLr"
   },
   "source": [
    "## Joint probability distributions\n",
    "\n",
    "### Discrete random variables\n",
    "A **joint probability distribution** of two discrete random variables $X$ and $Y$ is a function $p(x,y)$ such that for any two sets of real numbers $A$ and $B$ we have\n",
    "$$\n",
    "P(X \\in A, Y \\in B) = \\sum_{x \\in A} \\sum_{y \\in B} p(x,y)\n",
    "$$\n",
    "The function $p(x,y)$ is called a **joint probability mass function**."
   ]
  },
  {
   "cell_type": "code",
   "execution_count": 5,
   "metadata": {
    "colab": {
     "base_uri": "https://localhost:8080/"
    },
    "id": "HnD0lOs9hU8a",
    "outputId": "0a537cdc-94bf-420d-9f08-59d32e137326"
   },
   "outputs": [
    {
     "output_type": "stream",
     "name": "stdout",
     "text": [
      "0.1\n"
     ]
    }
   ],
   "source": [
    "def joint_pmf(p, x, y):\n",
    "    # For simplicity, assume a trivial pmf. In a real-world scenario, you would compute based on data.\n",
    "    return p[x][y]\n",
    "\n",
    "\n",
    "p = {\"x1\": {\"y1\": 0.1, \"y2\": 0.2}, \"x2\": {\"y1\": 0.3, \"y2\": 0.4}}\n",
    "print(joint_pmf(p, \"x1\", \"y1\"))"
   ]
  },
  {
   "cell_type": "markdown",
   "metadata": {
    "id": "-5TCH2PeBr75"
   },
   "source": [
    "### Continuous random variables\n",
    "A **joint probability distribution** of two continuous random variables $X$ and $Y$ is a function $p(x,y)$ such that for any two sets of real numbers $A$ and $B$ we have\n",
    "$$\n",
    "P(X \\in A, Y \\in B) = \\int_{x \\in A} \\int_{y \\in B} p(x,y) dx dy\n",
    "$$\n",
    "The function $p(x,y)$ is called a **joint probability density function**."
   ]
  },
  {
   "cell_type": "code",
   "execution_count": 6,
   "metadata": {
    "colab": {
     "base_uri": "https://localhost:8080/",
     "height": 569,
     "referenced_widgets": [
      "80027aa93ffd4006a969b4931f369171",
      "95ca9925493e4f0ebb947f6493822b04",
      "ad5a89d699954a0892423c59293830cd",
      "e0faa503472a4cdb9d1fab99559f9a65"
     ]
    },
    "id": "Doh2crAtBr75",
    "outputId": "09d664ba-30df-4fb2-de7b-1b44742fcad4"
   },
   "outputs": [
    {
     "output_type": "display_data",
     "data": {
      "text/plain": [
       "Canvas(toolbar=Toolbar(toolitems=[('Home', 'Reset original view', 'home', 'home'), ('Back', 'Back to previous …"
      ],
      "image/png": "[encoded data removed]",
      "text/html": [
       "\n",
       "            <div style=\"display: inline-block;\">\n",
       "                <div class=\"jupyter-widgets widget-label\" style=\"text-align: center;\">\n",
       "                    Figure\n",
       "                </div>\n",
       "                <img src='data:image/png;base64,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' width=640.0/>\n",
       "            </div>\n",
       "        "
      ],
      "application/vnd.jupyter.widget-view+json": {
       "version_major": 2,
       "version_minor": 0,
       "model_id": "80027aa93ffd4006a969b4931f369171"
      }
     },
     "metadata": {
      "application/vnd.jupyter.widget-view+json": {
       "colab": {
        "custom_widget_manager": {
         "url": "https://ssl.gstatic.com/colaboratory-static/widgets/colab-cdn-widget-manager/b3e629b1971e1542/manager.min.js"
        }
       }
      }
     }
    }
   ],
   "source": [
    "# Create a basic joint density function\n",
    "def joint_density(x, y):\n",
    "    return np.exp(-(x**2 + y**2) / 2)\n",
    "\n",
    "\n",
    "x = np.linspace(-5, 5, 100)\n",
    "y = np.linspace(-5, 5, 100)\n",
    "X, Y = np.meshgrid(x, y)\n",
    "Z = joint_density(X, Y)\n",
    "\n",
    "fig = plt.figure()\n",
    "\n",
    "plt.contourf(X, Y, Z, 20, cmap=\"RdGy\")\n",
    "plt.colorbar()\n",
    "plt.title(\"Joint Density Function Visualization\")\n",
    "plt.show()"
   ]
  },
  {
   "cell_type": "markdown",
   "metadata": {
    "id": "rclVQwYsBr75"
   },
   "source": [
    "## Correlation and dependence\n",
    "Two random variables $X$ and $Y$ are called **independent** if for any two sets of real numbers $A$ and $B$ we have\n",
    "$$\n",
    "P(X \\in A, Y \\in B) = P(X \\in A) P(Y \\in B)\n",
    "$$\n",
    "Otherwise, $X$ and $Y$ are called **dependent**."
   ]
  },
  {
   "cell_type": "code",
   "execution_count": 7,
   "metadata": {
    "colab": {
     "base_uri": "https://localhost:8080/",
     "height": 35
    },
    "id": "cBM24oNCBr76",
    "outputId": "c929ff9f-802e-4958-de93-06c1c5d5a8f3"
   },
   "outputs": [
    {
     "output_type": "stream",
     "name": "stdout",
     "text": [
      "False\n"
     ]
    }
   ],
   "source": [
    "def are_independent(p_X, p_Y, p_joint, x, y):\n",
    "    return p_joint(p, x, y) == p_X(x) * p_Y(y)\n",
    "\n",
    "\n",
    "# Example check\n",
    "def p_X(x):\n",
    "    return 0.5\n",
    "\n",
    "\n",
    "def p_Y(y):\n",
    "    return 0.5\n",
    "\n",
    "\n",
    "print(are_independent(p_X, p_Y, joint_pmf, \"x1\", \"y1\"))"
   ]
  },
  {
   "cell_type": "markdown",
   "metadata": {
    "id": "KCqPz9umBr76"
   },
   "source": [
    "### Correlation coefficient\n",
    "The **correlation coefficient** of two random variables $X$ and $Y$ is defined as\n",
    "$$\n",
    "\\rho(X,Y) = \\frac{Cov(X,Y)}{\\sqrt{Var(X) Var(Y)}}\n",
    "$$\n",
    "where $Cov(X,Y)$ is the **covariance** of $X$ and $Y$."
   ]
  },
  {
   "cell_type": "code",
   "execution_count": 8,
   "metadata": {
    "colab": {
     "base_uri": "https://localhost:8080/",
     "height": 35
    },
    "id": "55DY975pBr76",
    "outputId": "4b1ff224-c58b-4ed9-def3-20efb71bd968"
   },
   "outputs": [
    {
     "output_type": "stream",
     "name": "stdout",
     "text": [
      "0.49999999999999994\n"
     ]
    }
   ],
   "source": [
    "x_data = np.array([1, 2, 3, 4, 5])\n",
    "y_data = np.array([2, 4, 1, 3, 5])\n",
    "\n",
    "correlation_coefficient = np.corrcoef(x_data, y_data)[0, 1]\n",
    "print(correlation_coefficient)"
   ]
  },
  {
   "cell_type": "markdown",
   "metadata": {
    "id": "wOoxDGFYBr77"
   },
   "source": [
    "## Random samples\n",
    "A **random sample** of size $n$ from a population is a set of $n$ independent and identically distributed random variables $X_1, \\dots, X_n$.\n",
    "\n",
    "### Central limit theorem\n",
    "Let $X_1, \\dots, X_n$ be a random sample of size $n$ from a population with mean $\\mu$ and variance $\\sigma^2$. Then the random variable\n",
    "$$\n",
    "Z = \\frac{\\bar{X} - \\mu}{\\sigma / \\sqrt{n}}\n",
    "$$\n",
    "has a standard normal distribution."
   ]
  },
  {
   "cell_type": "code",
   "execution_count": 9,
   "metadata": {
    "colab": {
     "base_uri": "https://localhost:8080/",
     "height": 569,
     "referenced_widgets": [
      "1037def537df4942a430d36ad5c112fa",
      "2af7a6b98a4c444dbafc6ced64dba06c",
      "f92bc8a62e8841e1880ce7ec2c4997f5",
      "8ca1a21b71b0418495e76442d3fa70e3"
     ]
    },
    "id": "amRGIb92Br77",
    "outputId": "2a677f77-2156-4ab1-84a9-87fd62e38ae8"
   },
   "outputs": [
    {
     "output_type": "display_data",
     "data": {
      "text/plain": [
       "Canvas(toolbar=Toolbar(toolitems=[('Home', 'Reset original view', 'home', 'home'), ('Back', 'Back to previous …"
      ],
      "image/png": "[encoded data removed]",
      "text/html": [
       "\n",
       "            <div style=\"display: inline-block;\">\n",
       "                <div class=\"jupyter-widgets widget-label\" style=\"text-align: center;\">\n",
       "                    Figure\n",
       "                </div>\n",
       "                <img src='data:image/png;base64,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' width=640.0/>\n",
       "            </div>\n",
       "        "
      ],
      "application/vnd.jupyter.widget-view+json": {
       "version_major": 2,
       "version_minor": 0,
       "model_id": "1037def537df4942a430d36ad5c112fa"
      }
     },
     "metadata": {
      "application/vnd.jupyter.widget-view+json": {
       "colab": {
        "custom_widget_manager": {
         "url": "https://ssl.gstatic.com/colaboratory-static/widgets/colab-cdn-widget-manager/b3e629b1971e1542/manager.min.js"
        }
       }
      }
     }
    }
   ],
   "source": [
    "sample_means = []\n",
    "\n",
    "for _ in range(1000):\n",
    "    sample = np.random.randint(0, 100, 30)  # Take a random sample of size 30\n",
    "    sample_means.append(np.mean(sample))\n",
    "\n",
    "fig = plt.figure()\n",
    "plt.hist(sample_means, bins=50, color=\"blue\", alpha=0.7)\n",
    "plt.title(\"Distribution of Sample Means (CLT Visualization)\")\n",
    "plt.show()"
   ]
  },
  {
   "cell_type": "code",
   "execution_count": 9,
   "metadata": {
    "id": "im0udsZVBr77"
   },
   "outputs": [],
   "source": []
  }
 ],
 "metadata": {
  "colab": {
   "provenance": [],
   "include_colab_link": true
  },
  "kernelspec": {
   "display_name": "venv",
   "language": "python",
   "name": "python3"
  },
  "language_info": {
   "codemirror_mode": {
    "name": "ipython",
    "version": 3
   },
   "file_extension": ".py",
   "mimetype": "text/x-python",
   "name": "python",
   "nbconvert_exporter": "python",
   "pygments_lexer": "ipython3",
   "version": "3.11.5"
  },
  "orig_nbformat": 4,
  "widgets": {
   "application/vnd.jupyter.widget-state+json": {
    "80027aa93ffd4006a969b4931f369171": {
     "model_module": "jupyter-matplotlib",
     "model_name": "MPLCanvasModel",
     "model_module_version": "^0.11",
     "state": {
      "_cursor": "default",
      "_data_url": "data:image/png;base64,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",
      "_dom_classes": [],
      "_figure_label": "Figure 1",
      "_image_mode": "full",
      "_message": "",
      "_model_module": "jupyter-matplotlib",
      "_model_module_version": "^0.11",
      "_model_name": "MPLCanvasModel",
      "_rubberband_height": 0,
      "_rubberband_width": 0,
      "_rubberband_x": 0,
      "_rubberband_y": 0,
      "_size": [
       640,
       480
      ],
      "_view_count": null,
      "_view_module": "jupyter-matplotlib",
      "_view_module_version": "^0.11",
      "_view_name": "MPLCanvasView",
      "capture_scroll": false,
      "footer_visible": true,
      "header_visible": true,
      "layout": "IPY_MODEL_95ca9925493e4f0ebb947f6493822b04",
      "pan_zoom_throttle": 33,
      "resizable": true,
      "toolbar": "IPY_MODEL_ad5a89d699954a0892423c59293830cd",
      "toolbar_position": "left",
      "toolbar_visible": "fade-in-fade-out"
     }
    },
    "95ca9925493e4f0ebb947f6493822b04": {
     "model_module": "@jupyter-widgets/base",
     "model_name": "LayoutModel",
     "model_module_version": "1.2.0",
     "state": {
      "_model_module": "@jupyter-widgets/base",
      "_model_module_version": "1.2.0",
      "_model_name": "LayoutModel",
      "_view_count": null,
      "_view_module": "@jupyter-widgets/base",
      "_view_module_version": "1.2.0",
      "_view_name": "LayoutView",
      "align_content": null,
      "align_items": null,
      "align_self": null,
      "border": null,
      "bottom": null,
      "display": null,
      "flex": null,
      "flex_flow": null,
      "grid_area": null,
      "grid_auto_columns": null,
      "grid_auto_flow": null,
      "grid_auto_rows": null,
      "grid_column": null,
      "grid_gap": null,
      "grid_row": null,
      "grid_template_areas": null,
      "grid_template_columns": null,
      "grid_template_rows": null,
      "height": null,
      "justify_content": null,
      "justify_items": null,
      "left": null,
      "margin": null,
      "max_height": null,
      "max_width": null,
      "min_height": null,
      "min_width": null,
      "object_fit": null,
      "object_position": null,
      "order": null,
      "overflow": null,
      "overflow_x": null,
      "overflow_y": null,
      "padding": null,
      "right": null,
      "top": null,
      "visibility": null,
      "width": null
     }
    },
    "ad5a89d699954a0892423c59293830cd": {
     "model_module": "jupyter-matplotlib",
     "model_name": "ToolbarModel",
     "model_module_version": "^0.11",
     "state": {
      "_current_action": "",
      "_dom_classes": [],
      "_model_module": "jupyter-matplotlib",
      "_model_module_version": "^0.11",
      "_model_name": "ToolbarModel",
      "_view_count": null,
      "_view_module": "jupyter-matplotlib",
      "_view_module_version": "^0.11",
      "_view_name": "ToolbarView",
      "button_style": "",
      "collapsed": true,
      "layout": "IPY_MODEL_e0faa503472a4cdb9d1fab99559f9a65",
      "orientation": "vertical",
      "toolitems": [
       [
        "Home",
        "Reset original view",
        "home",
        "home"
       ],
       [
        "Back",
        "Back to previous view",
        "arrow-left",
        "back"
       ],
       [
        "Forward",
        "Forward to next view",
        "arrow-right",
        "forward"
       ],
       [
        "Pan",
        "Left button pans, Right button zooms\nx/y fixes axis, CTRL fixes aspect",
        "arrows",
        "pan"
       ],
       [
        "Zoom",
        "Zoom to rectangle\nx/y fixes axis",
        "square-o",
        "zoom"
       ],
       [
        "Download",
        "Download plot",
        "floppy-o",
        "save_figure"
       ]
      ]
     }
    },
    "e0faa503472a4cdb9d1fab99559f9a65": {
     "model_module": "@jupyter-widgets/base",
     "model_name": "LayoutModel",
     "model_module_version": "1.2.0",
     "state": {
      "_model_module": "@jupyter-widgets/base",
      "_model_module_version": "1.2.0",
      "_model_name": "LayoutModel",
      "_view_count": null,
      "_view_module": "@jupyter-widgets/base",
      "_view_module_version": "1.2.0",
      "_view_name": "LayoutView",
      "align_content": null,
      "align_items": null,
      "align_self": null,
      "border": null,
      "bottom": null,
      "display": null,
      "flex": null,
      "flex_flow": null,
      "grid_area": null,
      "grid_auto_columns": null,
      "grid_auto_flow": null,
      "grid_auto_rows": null,
      "grid_column": null,
      "grid_gap": null,
      "grid_row": null,
      "grid_template_areas": null,
      "grid_template_columns": null,
      "grid_template_rows": null,
      "height": null,
      "justify_content": null,
      "justify_items": null,
      "left": null,
      "margin": null,
      "max_height": null,
      "max_width": null,
      "min_height": null,
      "min_width": null,
      "object_fit": null,
      "object_position": null,
      "order": null,
      "overflow": null,
      "overflow_x": null,
      "overflow_y": null,
      "padding": null,
      "right": null,
      "top": null,
      "visibility": null,
      "width": null
     }
    },
    "1037def537df4942a430d36ad5c112fa": {
     "model_module": "jupyter-matplotlib",
     "model_name": "MPLCanvasModel",
     "model_module_version": "^0.11",
     "state": {
      "_cursor": "default",
      "_data_url": "data:image/png;base64,iVBORw0KGgoAAAANSUhEUgAAAoAAAAHgCAYAAAA10dzkAAAAOXRFWHRTb2Z0d2FyZQBNYXRwbG90bGliIHZlcnNpb24zLjcuMSwgaHR0cHM6Ly9tYXRwbG90bGliLm9yZy/bCgiHAAAACXBIWXMAAA9hAAAPYQGoP6dpAAA5jklEQVR4nO3deVyU5f7/8fcogigCboAoIi65ZguVclxT1MxIE3PJTmpWdiJNaTFaTC2z8pRoqXU6faVSrPSkhqWZayfTcsk0K1MPbiF48gS4gSbX748ezM9hV4FRrtfz8ZjHw7nue+77c19cM/P23sZhjDECAACANSq5uwAAAACULwIgAACAZQiAAAAAliEAAgAAWIYACAAAYBkCIAAAgGUIgAAAAJYhAAIAAFiGAAgAAGAZAiAAAIBlCIAAAACWIQACAABYhgAIAABgGQIgAACAZQiAAAAAliEAAgAAWIYACAAAYBkCIAAAgGUIgAAAAJYhAAIAAFiGAAgAAGAZAiAAAIBlCIAAAACWIQACAABYhgAIAABgGQIgAACAZQiAAAAAliEAAgAAWIYACAAAYBkCIAAAgGUIgAAAAJYhAAIAAFiGAAgAAGAZAiAAAIBlCIC4YBMnTpTD4SiXdXXt2lVdu3Z1Pl+3bp0cDocWLVpULusfPny4GjVqVC7rulgnTpzQfffdp6CgIDkcDo0dO9bdJZWJ8hx3FdW3334rT09PHThwwN2lXJK8nwuXSx379++Xw+FQQkJCudZRHus9e/asQkJCNHv27DJbB8oXAdByCQkJcjgczkfVqlUVHBysXr16aebMmTp+/HiprCclJUUTJ07U9u3bS2V5pelyrq0kXnzxRSUkJOhvf/ub3n//ff31r38tdN4zZ85oxowZuu666+Tr6yt/f3+1bt1aDzzwgH7++edyrNr9zh/7X331Vb7pxhiFhITI4XDotttuc0OFpe/pp5/WkCFDFBoamm/a4sWL1bt3b9WpU0eenp4KDg7WwIEDtWbNGuc8hf0HrFGjRi6fI4U9CgooR48elYeHh+6+++5C6z5+/Li8vb3Vv3//i9/4CiAxMVHx8fFuWXeVKlUUGxurKVOmKCsryy01oHR5uLsAXB4mT56ssLAwnT17VqmpqVq3bp3Gjh2r1157TZ988onatm3rnPeZZ57Rk08+eUHLT0lJ0aRJk9SoUSNde+21JX7dypUrL2g9F6Oo2t5++23l5OSUeQ2XYs2aNWrfvr2ee+65YueNjo7W8uXLNWTIEN1///06e/asfv75Zy1btkx/+ctf1KJFi3Ko+PJStWpVJSYmqmPHji7t69ev1+HDh+Xl5eWmykrX9u3btWrVKn399dcu7cYY3XvvvUpISNB1112n2NhYBQUF6ciRI1q8eLG6d++uDRs26C9/+Uuhy46Pj9eJEyeczz/77DMtWLBA06dPV506dZztBS0jICBAPXr00NKlS3Xq1ClVq1Yt3zwff/yxsrKynCGxPD4XLkZoaKhOnz6tKlWqlMnyExMT9cMPP+Tby1/W6801YsQIPfnkk0pMTNS9995bputC2SMAQpLUu3dv3XDDDc7ncXFxWrNmjW677Tbdfvvt+umnn+Tt7S1J8vDwkIdH2Q6d3C8CT0/PMl1Pccr6A7U0HD16VK1atSp2vs2bN2vZsmWaMmWKnnrqKZdpb7zxhtLT08uowsvbrbfeqoULF2rmzJku4zoxMVHh4eH67bff3Fhd6Zk7d64aNmyo9u3bu7S/+uqrSkhIcP6H7/zD7E8//bTef//9Yt/v/fr1c3mempqqBQsWqF+/fiU6hWLo0KFasWKFPvnkEw0ePDjf9MTERPn5+alPnz6S5PbPhcLkHkWpqOv19/dXz549lZCQQACsADgEjEJ169ZNzz77rA4cOKB58+Y52ws6F+uLL75Qx44d5e/vLx8fHzVv3twZMtatW6cbb7xR0p//g8x7OKhr165q06aNtm7dqs6dO6tatWrO1xZ2rs+5c+f01FNPKSgoSNWrV9ftt9+uQ4cOuczTqFEjDR8+PN9rz19mcbUVdA7gyZMn9eijjyokJEReXl5q3ry5/v73v8sY4zKfw+HQww8/rCVLlqhNmzby8vJS69attWLFioI7PI+jR49q5MiRCgwMVNWqVXXNNdfo3XffdU7PPRyXnJysTz/91Fn7/v37C1zevn37JEkdOnTIN61y5cqqXbu28/mBAwf00EMPqXnz5vL29lbt2rV155135lt27mHUr776SmPGjFHdunXl7++vUaNG6cyZM0pPT9c999yjmjVrqmbNmnriiSdc+in33KW///3vmj59ukJDQ+Xt7a0uXbrohx9+KFE/zZs3T+Hh4fL29latWrU0ePDgfGOhKEOGDNGxY8f0xRdfONvOnDmjRYsW6a677irwNTk5OYqPj1fr1q1VtWpVBQYGatSoUfr9999d5lu6dKn69Omj4OBgeXl5qUmTJnr++ed17tw5l/ly3wM//vijbr75ZlWrVk3169fXK6+8km/dr7/+ulq3bq1q1aqpZs2auuGGG5SYmFjsdi5ZskTdunVzee+ePn1aU6dOVYsWLfT3v/+9wHMs//rXv+qmm24qdvmX4o477lD16tUL3I6jR49q9erVGjBggHNvbEGfC8X1S2Hn8xb0eTZ37lx169ZNAQEB8vLyUqtWrTRnzpxityPvuXi579GCHufXUpJx0rVrV3366ac6cOBAvmUUdg7gmjVr1KlTJ1WvXl3+/v7q27evfvrppwK3f+/evRo+fLj8/f3l5+enESNG6NSpU/m2sUePHvrqq6/0v//9r9j+wOWNPYAo0l//+lc99dRTWrlype6///4C59m1a5duu+02tW3bVpMnT5aXl5f27t2rDRs2SJJatmypyZMna8KECXrggQfUqVMnSa6Hg44dO6bevXtr8ODBuvvuuxUYGFhkXVOmTJHD4dD48eN19OhRxcfHKzIyUtu3b3fuqSyJktR2PmOMbr/9dq1du1YjR47Utddeq88//1yPP/64fv31V02fPt1l/q+++koff/yxHnroIdWoUUMzZ85UdHS0Dh486BK48jp9+rS6du2qvXv36uGHH1ZYWJgWLlyo4cOHKz09XY888ohatmyp999/X+PGjVODBg306KOPSpLq1q1b4DJzz/uaP3++OnToUORenc2bN+vrr7/W4MGD1aBBA+3fv19z5sxR165d9eOPP+Y7TDd69GgFBQVp0qRJ2rRpk/7xj3/I399fX3/9tRo2bKgXX3xRn332maZNm6Y2bdronnvucXn9e++9p+PHjysmJkZZWVmaMWOGunXrpp07dxY5FqZMmaJnn31WAwcO1H333af//ve/ev3119W5c2d999138vf3L/S1uRo1aqSIiAgtWLBAvXv3liQtX75cGRkZGjx4sGbOnJnvNaNGjVJCQoJGjBihMWPGKDk5WW+88Ya+++47bdiwwbnnOCEhQT4+PoqNjZWPj4/WrFmjCRMmKDMzU9OmTXNZ5u+//65bbrlF/fv318CBA7Vo0SKNHz9eV199tbOut99+W2PGjNGAAQP0yCOPKCsrSzt27NA333xTaFiVpF9//VUHDx7U9ddf79Ke+0U+duxYVa5cudi+KivVq1dX3759tWjRIv3vf/9TrVq1nNM+/PBDnTt3TkOHDi309RfbL4WZM2eOWrdurdtvv10eHh5KSkrSQw89pJycHMXExJR4Obnv0fOlp6crNjZWAQEBzraSjJOnn35aGRkZOnz4sPNzxsfHp9B1r1q1Sr1791bjxo01ceJEnT59Wq+//ro6dOigbdu25QvDAwcOVFhYmKZOnapt27bpn//8pwICAvTyyy+7zBceHi5jjL7++usKc26stQysNnfuXCPJbN68udB5/Pz8zHXXXed8/txzz5nzh8706dONJPPf//630GVs3rzZSDJz587NN61Lly5GknnzzTcLnNalSxfn87Vr1xpJpn79+iYzM9PZ/tFHHxlJZsaMGc620NBQM2zYsGKXWVRtw4YNM6Ghoc7nS5YsMZLMCy+84DLfgAEDjMPhMHv37nW2STKenp4ubd9//72RZF5//fV86zpffHy8kWTmzZvnbDtz5oyJiIgwPj4+LtseGhpq+vTpU+TyjDEmJyfH2deBgYFmyJAhZtasWebAgQP55j116lS+to0bNxpJ5r333nO25Y6fXr16mZycHGd7RESEcTgc5sEHH3S2/fHHH6ZBgwYufZ+cnGwkGW9vb3P48GFn+zfffGMkmXHjxjnb8o67/fv3m8qVK5spU6a41Llz507j4eGRrz2v88f+G2+8YWrUqOHc7jvvvNPcfPPNxpj8/fvvf//bSDLz5893Wd6KFSvytRfUj6NGjTLVqlUzWVlZzrbcv8v5fZudnW2CgoJMdHS0s61v376mdevWRW5XQVatWmUkmaSkJJf2GTNmGElm8eLFJVpO7vtv4cKFRc43bdo0I8kkJyeXuMZPP/3USDJvvfWWS3v79u1N/fr1zblz55xted/DJemXvO/lXHnHlTEF/9169eplGjdu7NKWt47c8VzQZ4kxf74Hb7vtNuPj42N27dpV5PoKGid9+vQpcBsKWu+1115rAgICzLFjx5xt33//valUqZK55557nG2523/vvfe6LPOOO+4wtWvXzreulJQUI8m8/PLLBW4jrhwcAkaxfHx8irwaOHcvy9KlSy/6ggkvLy+NGDGixPPfc889qlGjhvP5gAEDVK9ePX322WcXtf6S+uyzz1S5cmWNGTPGpf3RRx+VMUbLly93aY+MjFSTJk2cz9u2bStfX1/95z//KXY9QUFBGjJkiLOtSpUqGjNmjE6cOKH169dfcO0Oh0Off/65XnjhBdWsWVMLFixQTEyMQkNDNWjQIJdzAM/fi3r27FkdO3ZMTZs2lb+/v7Zt25Zv2SNHjnQ5jNauXTsZYzRy5EhnW+XKlXXDDTcUuO39+vVT/fr1nc9vuukmtWvXrsi/58cff6ycnBwNHDhQv/32m/MRFBSkZs2aae3atSXum4EDB+r06dNatmyZjh8/rmXLlhW652jhwoXy8/NTjx49XNYbHh4uHx8fl/We34/Hjx/Xb7/9pk6dOunUqVP5rrr28fFxuRLW09NTN910k0t/+fv76/Dhw9q8eXOJt036cw+7JNWsWdOlPTMzU5Jc3kvu0rNnT9WtW9flsG1ycrI2bdqkIUOGqFKlwr+uLrZfCnP+3y0jI0O//fabunTpov/85z/KyMi46OU+//zzWrZsmRISElzO272QcVISR44c0fbt2zV8+HCXvalt27ZVjx49CnxfPfjggy7PO3XqpGPHjjnHSK7cMVRRzo21GQEQxTpx4kSRXxCDBg1Shw4ddN999ykwMFCDBw/WRx99dEFhsH79+hd0YnezZs1cnjscDjVt2rTQ899Ky4EDBxQcHJyvP1q2bOmcfr6GDRvmW0bNmjXznStW0HqaNWuW70uvsPWUlJeXl55++mn99NNPSklJ0YIFC9S+fXt99NFHevjhh53znT59WhMmTHCe51inTh3VrVtX6enpBX4B5t1OPz8/SVJISEi+9oK2Pe/fU5KuuuqqIv+ee/bskTFGzZo1U926dV0eP/30k44ePVpkX5yvbt26ioyMVGJioj7++GOdO3dOAwYMKHS9GRkZCggIyLfeEydOuKx3165duuOOO+Tn5ydfX1/VrVvXGfLy9mODBg3ynYuWd6yMHz9ePj4+uummm9SsWTPFxMQ4T7UoCZPnPFVfX19JKrXbPV0KDw8PDRo0SP/+97/166+/SpIzDBZ1+Fe69H7Ja8OGDYqMjHSeO1e3bl3neckXGwBXrFihSZMmKS4uTtHR0S7TLmSclETu50Pz5s3zTWvZsqV+++03nTx50qU973s4N+jlfb/mjiHuyXnl4xxAFOnw4cPKyMhQ06ZNC53H29tbX375pdauXatPP/1UK1as0Icffqhu3bpp5cqVJTq36ELO2yupwj6gzp07V27nOxW2nrxfxO5Qr149DR48WNHR0WrdurU++ugjJSQkyMPDQ6NHj9bcuXM1duxYRUREyM/PTw6HQ4MHDy4w2Be2nQW1l9a25+TkyOFwaPny5QWup6jzowpy11136f7771dqaqp69+5d6PmDOTk5CggI0Pz58wucnnsOZnp6urp06SJfX19NnjxZTZo0UdWqVbVt2zaNHz8+Xz+WZKy0bNlSu3fv1rJly7RixQr961//0uzZszVhwgRNmjSp0G3LPd8075d57m1/du7cme9KXne4++679cYbb2jBggV67LHHtGDBArVq1arYW0eVpF+K+jw43759+9S9e3e1aNFCr732mkJCQuTp6anPPvtM06dPv6ijHMnJyRo6dKh69OihF154wWXahY6TslLSz6rcMXT+7X1wZSIAoki5JzD36tWryPkqVaqk7t27q3v37nrttdf04osv6umnn9batWsVGRlZ6v9b3LNnj8tzY4z27t3rcr/CmjVrFnhrkwMHDqhx48bO5xdSW2hoqFatWqXjx4+77AXMPUxT0A12L0ZoaKh27NihnJwcl72Apb0e6c9Dy23bttWePXuch1AXLVqkYcOG6dVXX3XOl5WVVWa3isn795SkX375pchbiDRp0kTGGIWFhemqq6665BruuOMOjRo1Sps2bdKHH35Y5HpXrVqlDh06FPkfl3Xr1unYsWP6+OOP1blzZ2d7cnLyJdVZvXp1DRo0SIMGDdKZM2fUv39/TZkyRXFxcYXeCiQ36OVdd8eOHZ2nAzz11FNuvRBE+vPUgSZNmigxMVE9evTQrl27NGXKlBK9trh+Kerz4HxJSUnKzs7WJ5984rJX7EJOKTjf6dOn1b9/f/n7+2vBggX59upfyDgp6WdV7ufD7t278037+eefVadOHVWvXv1CNiNfXblHI3Dl4hAwCrVmzRo9//zzCgsLK/IQTEG3A8j9H3t2drYkOT9sSitA5F41mmvRokU6cuSI82pJ6c8v6k2bNunMmTPOtmXLluW7RciF1Hbrrbfq3LlzeuONN1zap0+fLofD4bL+S3HrrbcqNTXVJYj88ccfev311+Xj46MuXbpc8DL37NmjgwcP5mtPT0/Xxo0bVbNmTefeq8qVK+f7n//rr7+eb29JaVmyZInzsJ/050+WffPNN0X2Z//+/VW5cmVNmjQpX63GGOd5byXl4+OjOXPmaOLEiYqKiip0voEDB+rcuXN6/vnn8037448/nOMoN0ydX9uZM2cu6ae08m6Tp6enWrVqJWOMzp49W+jr6tevr5CQEG3ZssWlvVq1aho/frx++uknjR8/vsC9s/PmzdO333570TVfqKFDh+q7777Tc889J4fDUaKreEvSL02aNFFGRoZ27NjhnC/3ZtfnK+jvlpGRoblz517U9jz44IP65ZdftHjx4nznYBa2vsLGSfXq1Ut0SLhevXq69tpr9e6777p8rv3www9auXKlbr311ovYkj9t3bpVDodDERERF70MXB7YAwhJf9724ueff9Yff/yhtLQ0rVmzRl988YVCQ0P1ySefFHmT0cmTJ+vLL79Unz59FBoaqqNHj2r27Nlq0KCB89cVmjRpIn9/f7355puqUaOGqlevrnbt2iksLOyi6q1Vq5Y6duyoESNGKC0tTfHx8WratKnLrWruu+8+LVq0SLfccosGDhyoffv2ad68eS4XZVxobVFRUbr55pv19NNPa//+/brmmmu0cuVKLV26VGPHjs237Iv1wAMP6K233tLw4cO1detWNWrUSIsWLdKGDRsUHx9/USftf//997rrrrvUu3dvderUSbVq1dKvv/6qd999VykpKYqPj3d+Gd122216//335efnp1atWmnjxo1atWpVkbeuuRRNmzZVx44d9be//U3Z2dmKj49X7dq19cQTTxT6miZNmuiFF15QXFyc9u/fr379+qlGjRpKTk7W4sWL9cADD+ixxx67oDqGDRtW7DxdunTRqFGjNHXqVG3fvl09e/ZUlSpVtGfPHi1cuFAzZszQgAED9Je//EU1a9bUsGHDNGbMGDkcDr3//vuXdAi8Z8+eCgoKUocOHRQYGKiffvpJb7zxhvr06VPsmOjbt68WL14sY4zLnqTHH39cu3bt0quvvqq1a9dqwIABCgoKUmpqqpYsWaJvv/0236+H/Otf/yrw4oRhw4blO+/zQt19992aPHmyli5dqg4dOpToRtIl6ZfBgwdr/PjxuuOOOzRmzBidOnVKc+bM0VVXXeVyYVPPnj3l6empqKgojRo1SidOnNDbb7+tgIAAHTly5IK25dNPP9V7772n6Oho7dixwyV8+vj4qF+/fhc0TsLDw/Xhhx8qNjZWN954o3x8fAr9z8q0adPUu3dvRUREaOTIkc7bwPj5+WnixIkXtB3n++KLL9ShQ4cy+yxAOSrHK45xGcq9FUbuw9PT0wQFBZkePXqYGTNmuNxuJFfe2yasXr3a9O3b1wQHBxtPT08THBxshgwZYn755ReX1y1dutS0atXKeHh4uNyyoEuXLoXewqGw28AsWLDAxMXFmYCAAOPt7W369OlT4O1MXn31VVO/fn3j5eVlOnToYLZs2ZJvmUXVVtCtI44fP27GjRtngoODTZUqVUyzZs3MtGnTXG6DYsyft4GJiYnJV1Nht6fJKy0tzYwYMcLUqVPHeHp6mquvvrrA20uU9DYwaWlp5qWXXjJdunQx9erVMx4eHqZmzZqmW7duZtGiRS7z/v777851+/j4mF69epmff/45X+2F3UYod4zkvTXQsGHDTPXq1Z3Pc29fMW3aNPPqq6+akJAQ4+XlZTp16mS+//77ApeZ17/+9S/TsWNHU716dVO9enXTokULExMTY3bv3l1kf5TkFkjGFN6///jHP0x4eLjx9vY2NWrUMFdffbV54oknTEpKinOeDRs2mPbt2xtvb28THBxsnnjiCfP5558bSWbt2rXO+Qp7D+Qdf2+99Zbp3LmzqV27tvHy8jJNmjQxjz/+uMnIyChyG4wxZtu2bUaS+fe//13g9EWLFpmePXuaWrVqGQ8PD1OvXj0zaNAgs27dOuc8ue+/wh65y76Y28Cc78YbbzSSzOzZswucnvc9XNJ+WblypWnTpo3x9PQ0zZs3N/PmzStwXH3yySembdu2pmrVqqZRo0bm5ZdfNv/3f/+Xb5uKuw1M3s/X8x/n/11LOk5OnDhh7rrrLuPv7++yjMJuP7Nq1SrToUMH4+3tbXx9fU1UVJT58ccfXeYp7L2aW/v525uenm48PT3NP//5z/x/FFxxHMZcBmejA7DS/v37FRYWpmnTpl3w3jpcuO7duys4ODjfzYmBkoiPj9crr7yiffv2lcmFeyhfnAMIAJZ48cUX9eGHH170bYRgr7Nnz+q1117TM888Q/irIDgHEAAs0a5dO5eLooCSqlKlSoEXkeHKxR5AAAAAy3AOIAAAgGXYAwgAAGAZAiAAAIBlCIAAAACW4SrgS5CTk6OUlBTVqFGj1H/rFgAAlA1jjI4fP67g4OB8v89sCwLgJUhJSbnknz0CAADucejQITVo0MDdZbgFAfAS5P7G5KFDh+Tr6+vmagAAQElkZmYqJCTkon5XvaIgAF6C3MO+vr6+BEAAAK4wNp++ZeeBbwAAAIsRAAEAACxDAAQAALAMARAAAMAyBEAAAADLEAABAAAsQwAEAACwDAEQAADAMgRAAAAAyxAAAQAALEMABAAAsAwBEAAAwDIEQAAAAMsQAAEAACzj4e4CAMAdoqKKnycpqezrAAB3YA8gAACAZQiAAAAAliEAAgAAWIYACAAAYBkCIAAAgGUIgAAAAJYhAAIAAFiGAAgAAGAZAiAAAIBlCIAAAACWIQACAABYhgAIAABgGQIgAACAZQiAAAAAliEAAgAAWIYACAAAYBkCIAAAgGUIgAAAAJbxcHcBAHC5iooqfp6kpLKvAwBKG3sAAQAALEMABAAAsAwBEAAAwDIEQAAAAMsQAAEAACxDAAQAALAMARAAAMAyBEAAAADLEAABAAAsQwAEAACwDAEQAADAMgRAAAAAyxAAAQAALFNhA+DEiRPlcDhcHi1atHBOz8rKUkxMjGrXri0fHx9FR0crLS3NjRUDAACUjwobACWpdevWOnLkiPPx1VdfOaeNGzdOSUlJWrhwodavX6+UlBT179/fjdUCAACUDw93F1CWPDw8FBQUlK89IyND77zzjhITE9WtWzdJ0ty5c9WyZUtt2rRJ7du3L+9SAQAAyk2F3gO4Z88eBQcHq3Hjxho6dKgOHjwoSdq6davOnj2ryMhI57wtWrRQw4YNtXHjRneVCwAAUC4q7B7Adu3aKSEhQc2bN9eRI0c0adIkderUST/88INSU1Pl6ekpf39/l9cEBgYqNTW10GVmZ2crOzvb+TwzM7OsygcAACgzFTYA9u7d2/nvtm3bql27dgoNDdVHH30kb2/vi1rm1KlTNWnSpNIqEQAAwC0q9CHg8/n7++uqq67S3r17FRQUpDNnzig9Pd1lnrS0tALPGcwVFxenjIwM5+PQoUNlXDUAAEDpsyYAnjhxQvv27VO9evUUHh6uKlWqaPXq1c7pu3fv1sGDBxUREVHoMry8vOTr6+vyAAAAuNJU2EPAjz32mKKiohQaGqqUlBQ999xzqly5soYMGSI/Pz+NHDlSsbGxqlWrlnx9fTV69GhFRERwBTAAAKjwKmwAPHz4sIYMGaJjx46pbt266tixozZt2qS6detKkqZPn65KlSopOjpa2dnZ6tWrl2bPnu3mqgEAAMqewxhj3F3ElSozM1N+fn7KyMjgcDBwhYmKKp3lJCWVznIAlB++vy06BxAAAAB/IgACAABYhgAIAABgGQIgAACAZQiAAAAAliEAAgAAWKbC3gcQAMpDSW4nw61iAFxu2AMIAABgGQIgAACAZQiAAAAAliEAAgAAWIYACAAAYBkCIAAAgGUIgAAAAJYhAAIAAFiGAAgAAGAZAiAAAIBlCIAAAACWIQACAABYxsPdBQC48kVFFT9PUtKVt64rEf0DoCTYAwgAAGAZAiAAAIBlCIAAAACWIQACAABYhgAIAABgGa4CBlAuuDoVAC4f7AEEAACwDAEQAADAMgRAAAAAyxAAAQAALEMABAAAsAwBEAAAwDLcBgYAyhi3wAFwuWEPIAAAgGUIgAAAAJYhAAIAAFiGAAgAAGAZAiAAAIBlCIAAAACWIQACAABYhgAIAABgGQIgAACAZQiAAAAAliEAAgAAWIbfAgaAK0RJflMYAEqCPYAAAACWIQACAABYhgAIAABgGQIgAACAZQiAAAAAluEqYAC4DHCFL4DyxB5AAAAAy1gRAF966SU5HA6NHTvW2ZaVlaWYmBjVrl1bPj4+io6OVlpamvuKBAAAKCcVPgBu3rxZb731ltq2bevSPm7cOCUlJWnhwoVav369UlJS1L9/fzdVCQAAUH4qdAA8ceKEhg4dqrfffls1a9Z0tmdkZOidd97Ra6+9pm7duik8PFxz587V119/rU2bNrmxYgAAgLJXoQNgTEyM+vTpo8jISJf2rVu36uzZsy7tLVq0UMOGDbVx48byLhMAAKBcVdirgD/44ANt27ZNmzdvzjctNTVVnp6e8vf3d2kPDAxUampqocvMzs5Wdna283lmZmap1QsAAFBeKuQewEOHDumRRx7R/PnzVbVq1VJb7tSpU+Xn5+d8hISElNqyAQAAykuFDIBbt27V0aNHdf3118vDw0MeHh5av369Zs6cKQ8PDwUGBurMmTNKT093eV1aWpqCgoIKXW5cXJwyMjKcj0OHDpXxlgAAAJS+CnkIuHv37tq5c6dL24gRI9SiRQuNHz9eISEhqlKlilavXq3o6GhJ0u7du3Xw4EFFREQUulwvLy95eXmVae0AAABlrUIGwBo1aqhNmzYubdWrV1ft2rWd7SNHjlRsbKxq1aolX19fjR49WhEREWrfvr07SgYAACg3FTIAlsT06dNVqVIlRUdHKzs7W7169dLs2bPdXRYAAECZsyYArlu3zuV51apVNWvWLM2aNcs9BQEAALiJNQEQsE1UVPHzJCWVfR3uUJJtBwCbVcirgAEAAFA4AiAAAIBlCIAAAACWIQACAABYhgAIAABgGQIgAACAZQiAAAAAliEAAgAAWIYACAAAYBkCIAAAgGUIgAAAAJYhAAIAAFiGAAgAAGAZAiAAAIBlCIAAAACWIQACAABYhgAIAABgGQIgAACAZQiAAAAAliEAAgAAWIYACAAAYBkCIAAAgGUIgAAAAJYhAAIAAFiGAAgAAGAZAiAAAIBlCIAAAACWIQACAABYhgAIAABgGQIgAACAZQiAAAAAliEAAgAAWIYACAAAYBkCIAAAgGUIgAAAAJYhAAIAAFiGAAgAAGAZD3cXAODyFhXl7goAAKWNPYAAAACWIQACAABYhgAIAABgGQIgAACAZQiAAAAAluEqYABAPiW5+jspqezrAFA22AMIAABgGQIgAACAZQiAAAAAliEAAgAAWIYACAAAYBmuAgZw2eB3hwGgfLAHEAAAwDIVNgDOmTNHbdu2la+vr3x9fRUREaHly5c7p2dlZSkmJka1a9eWj4+PoqOjlZaW5saKAQAAykeFDYANGjTQSy+9pK1bt2rLli3q1q2b+vbtq127dkmSxo0bp6SkJC1cuFDr169XSkqK+vfv7+aqAQAAyl6FPQcwKs/JRFOmTNGcOXO0adMmNWjQQO+8844SExPVrVs3SdLcuXPVsmVLbdq0Se3bt3dHyQAAAOWiwu4BPN+5c+f0wQcf6OTJk4qIiNDWrVt19uxZRUZGOudp0aKFGjZsqI0bN7qxUgAAgLJXYfcAStLOnTsVERGhrKws+fj4aPHixWrVqpW2b98uT09P+fv7u8wfGBio1NTUQpeXnZ2t7Oxs5/PMzMyyKh0AAKDMVOgA2Lx5c23fvl0ZGRlatGiRhg0bpvXr11/08qZOnapJkyaVYoWAe3HbFQCwU4U+BOzp6ammTZsqPDxcU6dO1TXXXKMZM2YoKChIZ86cUXp6usv8aWlpCgoKKnR5cXFxysjIcD4OHTpUxlsAAABQ+ip0AMwrJydH2dnZCg8PV5UqVbR69WrntN27d+vgwYOKiIgo9PVeXl7O28rkPgAAAK40FfYQcFxcnHr37q2GDRvq+PHjSkxM1Lp16/T555/Lz89PI0eOVGxsrGrVqiVfX1+NHj1aERERXAEMAAAqvAobAI8ePap77rlHR44ckZ+fn9q2bavPP/9cPXr0kCRNnz5dlSpVUnR0tLKzs9WrVy/Nnj3bzVUDAACUvQobAN95550ip1etWlWzZs3SrFmzyqkiAACAy0OFDYAAgIKV1tXfJVlOUlLprAtA6bLqIhAAAAAQAAEAAKxDAAQAALAMARAAAMAyBEAAAADLcBUwAKDMcKUwcHliDyAAAIBlCIAAAACWIQACAABYhgAIAABgGQIgAACAZQiAAAAAliEAAgAAWIYACAAAYBkCIAAAgGUIgAAAAJYhAAIAAFiGAAgAAGAZAiAAAIBlCIAAAACWIQACAABYhgAIAABgGQIgAACAZQiAAAAAliEAAgAAWIYACAAAYBkCIAAAgGUIgAAAAJYhAAIAAFiGAAgAAGAZAiAAAIBlCIAAAACWIQACAABYhgAIAABgGQIgAACAZQiAAAAAliEAAgAAWIYACAAAYBkCIAAAgGUIgAAAAJYhAAIAAFiGAAgAAGAZAiAAAIBlPNxdAGCTqKji50lKKvs6AAB2Yw8gAACAZQiAAAAAliEAAgAAWIYACAAAYBkCIAAAgGUIgAAAAJYhAAIAAFimwgbAqVOn6sYbb1SNGjUUEBCgfv36affu3S7zZGVlKSYmRrVr15aPj4+io6OVlpbmpooBAADKR4UNgOvXr1dMTIw2bdqkL774QmfPnlXPnj118uRJ5zzjxo1TUlKSFi5cqPXr1yslJUX9+/d3Y9UAAABlr8L+EsiKFStcnickJCggIEBbt25V586dlZGRoXfeeUeJiYnq1q2bJGnu3Llq2bKlNm3apPbt27ujbAAAgDJXYfcA5pWRkSFJqlWrliRp69atOnv2rCIjI53ztGjRQg0bNtTGjRsLXEZ2drYyMzNdHgAAAFeaCrsH8Hw5OTkaO3asOnTooDZt2kiSUlNT5enpKX9/f5d5AwMDlZqaWuBypk6dqkmTJpV1uQCAPPgdbaB0WbEHMCYmRj/88IM++OCDS1pOXFycMjIynI9Dhw6VUoUAAADlp8LvAXz44Ye1bNkyffnll2rQoIGzPSgoSGfOnFF6errLXsC0tDQFBQUVuCwvLy95eXmVdckAAABlqsLuATTG6OGHH9bixYu1Zs0ahYWFuUwPDw9XlSpVtHr1amfb7t27dfDgQUVERJR3uQAAAOWmwu4BjImJUWJiopYuXaoaNWo4z+vz8/OTt7e3/Pz8NHLkSMXGxqpWrVry9fXV6NGjFRERwRXAAACgQquwAXDOnDmSpK5du7q0z507V8OHD5ckTZ8+XZUqVVJ0dLSys7PVq1cvzZ49u5wrBQAAKF8VNgAaY4qdp2rVqpo1a5ZmzZpVDhUBAABcHipsAAQqspLcEgMAgMJU2ItAAAAAUDACIAAAgGUIgAAAAJYhAAIAAFiGAAgAAGAZrgIGSoAfogcAVCTsAQQAALAMARAAAMAyBEAAAADLEAABAAAsQwAEAACwDFcBA6WE3+cFLk5pvXe4Wh8oOfYAAgAAWIYACAAAYBkCIAAAgGUIgAAAAJYhAAIAAFiGAAgAAGAZAiAAAIBlCIAAAACWIQACAABYhgAIAABgGQIgAACAZQiAAAAAlvFwdwEAAFxOoqKKnycpqezrAMoSewABAAAsQwAEAACwDAEQAADAMgRAAAAAyxAAAQAALMNVwMBlpiRXIAIAcCnYAwgAAGAZAiAAAIBlCIAAAACWIQACAABYhgAIAABgGQIgAACAZQiAAAAAliEAAgAAWIYACAAAYBkCIAAAgGUIgAAAAJYhAAIAAFiGAAgAAGAZAiAAAIBlCIAAAACWIQACAABYhgAIAABgGQIgAACAZTzcXQAAAOUlKsrdFQCXB/YAAgAAWKbCBsAvv/xSUVFRCg4OlsPh0JIlS1ymG2M0YcIE1atXT97e3oqMjNSePXvcUywAAEA5qrAB8OTJk7rmmms0a9asAqe/8sormjlzpt5880198803ql69unr16qWsrKxyrhQAAKB8VdhzAHv37q3evXsXOM0Yo/j4eD3zzDPq27evJOm9995TYGCglixZosGDB5dnqQAAAOWqwu4BLEpycrJSU1MVGRnpbPPz81O7du20cePGQl+XnZ2tzMxMlwcAAMCVxsoAmJqaKkkKDAx0aQ8MDHROK8jUqVPl5+fnfISEhJRpnQAAAGXBygB4seLi4pSRkeF8HDp0yN0lAQAAXDArA2BQUJAkKS0tzaU9LS3NOa0gXl5e8vX1dXkAAABcaawMgGFhYQoKCtLq1audbZmZmfrmm28UERHhxsoAAADKXoW9CvjEiRPau3ev83lycrK2b9+uWrVqqWHDhho7dqxeeOEFNWvWTGFhYXr22WcVHBysfv36ua9oAACAclBhA+CWLVt08803O5/HxsZKkoYNG6aEhAQ98cQTOnnypB544AGlp6erY8eOWrFihapWrequkgEAAMqFwxhj3F3ElSozM1N+fn7KyMjgfMAKjt8PBXC+pCR3V4BLwfd3Bd4DCABAWSnJfwoJibicWXkRCAAAgM0IgAAAAJYhAAIAAFiGAAgAAGAZAiAAAIBlCIAAAACWIQACAABYhgAIAABgGQIgAACAZQiAAAAAliEAAgAAWIbfAsYVq7R+i7MkywEAoCJhDyAAAIBlCIAAAACWIQACAABYhgAIAABgGQIgAACAZbgKGJclrswFAKDssAcQAADAMgRAAAAAyxAAAQAALEMABAAAsAwBEAAAwDIEQAAAAMtwGxgAAMpAad3OKimpdNZVkuXAHuwBBAAAsAwBEAAAwDIEQAAAAMsQAAEAACxDAAQAALAMVwGj3JXWlXGX27oA4HLGlcI4H3sAAQAALEMABAAAsAwBEAAAwDIEQAAAAMsQAAEAACzDVcCXsSvxii2uugWAK9eV+L2Di8MeQAAAAMsQAAEAACxDAAQAALAMARAAAMAyBEAAAADLEAABAAAsw21gUGLc4gUAyt/l9tnLrWIqBvYAAgAAWIYACAAAYBkCIAAAgGUIgAAAAJYhAAIAAFiGq4AtwBVbAIDLDd9N7sUeQAAAAMtYHwBnzZqlRo0aqWrVqmrXrp2+/fZbd5cEAABQpqwOgB9++KFiY2P13HPPadu2bbrmmmvUq1cvHT161N2lAQAAlBmrA+Brr72m+++/XyNGjFCrVq305ptvqlq1avq///s/d5cGAABQZqy9COTMmTPaunWr4uLinG2VKlVSZGSkNm7cWOBrsrOzlZ2d7XyekZEhScrMzCyTGs+eLX6ekqy6PJcDAEB5fjddjNzvbWNM2azgCmBtAPztt9907tw5BQYGurQHBgbq559/LvA1U6dO1aRJk/K1h4SElEmNJeHnd3ktBwCAK+W76fjx4/Kz9AvQ2gB4MeLi4hQbG+t8npOTo//973+qXbu2HA6HGysrmczMTIWEhOjQoUPy9fV1dzmXHfqnaPRP4eibotE/RaN/CldWfWOM0fHjxxUcHFxqy7zSWBsA69Spo8qVKystLc2lPS0tTUFBQQW+xsvLS15eXi5t/v7+ZVVimfH19eVDpgj0T9Hon8LRN0Wjf4pG/xSuLPrG1j1/uay9CMTT01Ph4eFavXq1sy0nJ0erV69WRESEGysDAAAoW9buAZSk2NhYDRs2TDfccINuuukmxcfH6+TJkxoxYoS7SwMAACgzVgfAQYMG6b///a8mTJig1NRUXXvttVqxYkW+C0MqCi8vLz333HP5DmPjT/RP0eifwtE3RaN/ikb/FI6+KTsOY/M10AAAABay9hxAAAAAWxEAAQAALEMABAAAsAwBEAAAwDIEwApmzpw5atu2rfOmmREREVq+fLlzeteuXeVwOFweDz74oBsrdq+XXnpJDodDY8eOdbZlZWUpJiZGtWvXlo+Pj6Kjo/PdMNwGBfWN7eNn4sSJ+ba/RYsWzuk2j53i+sb2sSNJv/76q+6++27Vrl1b3t7euvrqq7VlyxbndGOMJkyYoHr16snb21uRkZHas2ePGysuX8X1z/Dhw/ONoVtuucWNFV/ZrL4NTEXUoEEDvfTSS2rWrJmMMXr33XfVt29ffffdd2rdurUk6f7779fkyZOdr6lWrZq7ynWrzZs366233lLbtm1d2seNG6dPP/1UCxculJ+fnx5++GH1799fGzZscFOl5a+wvpEYP61bt9aqVauczz08/v/HqO1jp6i+keweO7///rs6dOigm2++WcuXL1fdunW1Z88e1axZ0znPK6+8opkzZ+rdd99VWFiYnn32WfXq1Us//vijqlat6sbqy15J+keSbrnlFs2dO9f5nNvDXDwCYAUTFRXl8nzKlCmaM2eONm3a5AyA1apVK/Tn7mxx4sQJDR06VG+//bZeeOEFZ3tGRobeeecdJSYmqlu3bpKkuXPnqmXLltq0aZPat2/vrpLLTWF9k8v28ePh4VHg9jN2Cu+bXDaPnZdfflkhISEu4SUsLMz5b2OM4uPj9cwzz6hv376SpPfee0+BgYFasmSJBg8eXO41l6fi+ieXl5eXtWOotHEIuAI7d+6cPvjgA508edLl5+3mz5+vOnXqqE2bNoqLi9OpU6fcWKV7xMTEqE+fPoqMjHRp37p1q86ePevS3qJFCzVs2FAbN24s7zLdorC+yWX7+NmzZ4+Cg4PVuHFjDR06VAcPHpTE2JEK75tcNo+dTz75RDfccIPuvPNOBQQE6LrrrtPbb7/tnJ6cnKzU1FSX8ePn56d27dpZMX6K659c69atU0BAgJo3b66//e1vOnbsmBuqrRjYA1gB7dy5UxEREcrKypKPj48WL16sVq1aSZLuuusuhYaGKjg4WDt27ND48eO1e/duffzxx26uuvx88MEH2rZtmzZv3pxvWmpqqjw9PeXv7+/SHhgYqNTU1HKq0H2K6huJ8dOuXTslJCSoefPmOnLkiCZNmqROnTrphx9+sH7sFNU3NWrUsH7s/Oc//9GcOXMUGxurp556Sps3b9aYMWPk6empYcOGOcdI3l+ismX8FNc/0p+Hf/v376+wsDDt27dPTz31lHr37q2NGzeqcuXKbt6CK5BBhZOdnW327NljtmzZYp588klTp04ds2vXrgLnXb16tZFk9u7dW85VusfBgwdNQECA+f77751tXbp0MY888ogxxpj58+cbT0/PfK+78cYbzRNPPFFeZbpFcX1TENvGT16///678fX1Nf/85z+tHjsFOb9vCmLb2KlSpYqJiIhwaRs9erRp3769McaYDRs2GEkmJSXFZZ4777zTDBw4sNzqdJfi+qcg+/btM5LMqlWryrq8ColDwBWQp6enmjZtqvDwcE2dOlXXXHONZsyYUeC87dq1kyTt3bu3PEt0m61bt+ro0aO6/vrr5eHhIQ8PD61fv14zZ86Uh4eHAgMDdebMGaWnp7u8Li0trcKfd1Jc35w7dy7fa2wbP3n5+/vrqquu0t69exUUFGTt2CnI+X1TENvGTr169ZxHYnK1bNnSeZg8d4zkvWrclvFTXP8UpHHjxqpTp441Y6i0EQAtkJOTo+zs7AKnbd++XdKfbz4bdO/eXTt37tT27dudjxtuuEFDhw51/rtKlSpavXq18zW7d+/WwYMHXc6jrIiK65uCDrHYNn7yOnHihPbt26d69eopPDzc2rFTkPP7piC2jZ0OHTpo9+7dLm2//PKLQkNDJf15wUNQUJDL+MnMzNQ333xjxfgprn8KcvjwYR07dsyaMVTq3L0LEqXrySefNOvXrzfJyclmx44d5sknnzQOh8OsXLnS7N2710yePNls2bLFJCcnm6VLl5rGjRubzp07u7tst8p7mPPBBx80DRs2NGvWrDFbtmwxERER+Q5N2OL8vmH8GPPoo4+adevWmeTkZLNhwwYTGRlp6tSpY44ePWqMsXvsFNU3jB1jvv32W+Ph4WGmTJli9uzZY+bPn2+qVatm5s2b55znpZdeMv7+/mbp0qVmx44dpm/fviYsLMycPn3ajZWXj+L65/jx4+axxx4zGzduNMnJyWbVqlXm+uuvN82aNTNZWVlurv7KRACsYO69914TGhpqPD09Td26dU337t3NypUrjTF/nuPVuXNnU6tWLePl5WWaNm1qHn/8cZORkeHmqt0rbwA8ffq0eeihh0zNmjVNtWrVzB133GGOHDnivgLd6Py+YfwYM2jQIFOvXj3j6elp6tevbwYNGuRyDpvNY6eovmHs/CkpKcm0adPGeHl5mRYtWph//OMfLtNzcnLMs88+awIDA42Xl5fp3r272b17t5uqLX9F9c+pU6dMz549Td26dU2VKlVMaGiouf/++01qaqobK76yOYwxxt17IQEAAFB+OAcQAADAMgRAAAAAyxAAAQAALEMABAAAsAwBEAAAwDIEQAAAAMsQAAEAACxDAAQAALAMARAAAMAyBEAAAADLEAABAAAsQwAEAACwDAEQAADAMgRAAAAAyxAAAQAALEMABAAAsAwBEAAAwDIEQAAAAMsQAAEAACxDAAQAALAMARAAAMAyBEAAAADLEAABAAAsQwAEAACwDAEQAADAMgRAAAAAyxAAAQAALEMABAAAsAwBEAAAwDIEQAAAAMsQAAEAACzz/wD2IqNRx5IT2gAAAABJRU5ErkJggg==",
      "_dom_classes": [],
      "_figure_label": "Figure 2",
      "_image_mode": "full",
      "_message": "",
      "_model_module": "jupyter-matplotlib",
      "_model_module_version": "^0.11",
      "_model_name": "MPLCanvasModel",
      "_rubberband_height": 0,
      "_rubberband_width": 0,
      "_rubberband_x": 0,
      "_rubberband_y": 0,
      "_size": [
       640,
       480
      ],
      "_view_count": null,
      "_view_module": "jupyter-matplotlib",
      "_view_module_version": "^0.11",
      "_view_name": "MPLCanvasView",
      "capture_scroll": false,
      "footer_visible": true,
      "header_visible": true,
      "layout": "IPY_MODEL_2af7a6b98a4c444dbafc6ced64dba06c",
      "pan_zoom_throttle": 33,
      "resizable": true,
      "toolbar": "IPY_MODEL_f92bc8a62e8841e1880ce7ec2c4997f5",
      "toolbar_position": "left",
      "toolbar_visible": "fade-in-fade-out"
     }
    },
    "2af7a6b98a4c444dbafc6ced64dba06c": {
     "model_module": "@jupyter-widgets/base",
     "model_name": "LayoutModel",
     "model_module_version": "1.2.0",
     "state": {
      "_model_module": "@jupyter-widgets/base",
      "_model_module_version": "1.2.0",
      "_model_name": "LayoutModel",
      "_view_count": null,
      "_view_module": "@jupyter-widgets/base",
      "_view_module_version": "1.2.0",
      "_view_name": "LayoutView",
      "align_content": null,
      "align_items": null,
      "align_self": null,
      "border": null,
      "bottom": null,
      "display": null,
      "flex": null,
      "flex_flow": null,
      "grid_area": null,
      "grid_auto_columns": null,
      "grid_auto_flow": null,
      "grid_auto_rows": null,
      "grid_column": null,
      "grid_gap": null,
      "grid_row": null,
      "grid_template_areas": null,
      "grid_template_columns": null,
      "grid_template_rows": null,
      "height": null,
      "justify_content": null,
      "justify_items": null,
      "left": null,
      "margin": null,
      "max_height": null,
      "max_width": null,
      "min_height": null,
      "min_width": null,
      "object_fit": null,
      "object_position": null,
      "order": null,
      "overflow": null,
      "overflow_x": null,
      "overflow_y": null,
      "padding": null,
      "right": null,
      "top": null,
      "visibility": null,
      "width": null
     }
    },
    "f92bc8a62e8841e1880ce7ec2c4997f5": {
     "model_module": "jupyter-matplotlib",
     "model_name": "ToolbarModel",
     "model_module_version": "^0.11",
     "state": {
      "_current_action": "",
      "_dom_classes": [],
      "_model_module": "jupyter-matplotlib",
      "_model_module_version": "^0.11",
      "_model_name": "ToolbarModel",
      "_view_count": null,
      "_view_module": "jupyter-matplotlib",
      "_view_module_version": "^0.11",
      "_view_name": "ToolbarView",
      "button_style": "",
      "collapsed": true,
      "layout": "IPY_MODEL_8ca1a21b71b0418495e76442d3fa70e3",
      "orientation": "vertical",
      "toolitems": [
       [
        "Home",
        "Reset original view",
        "home",
        "home"
       ],
       [
        "Back",
        "Back to previous view",
        "arrow-left",
        "back"
       ],
       [
        "Forward",
        "Forward to next view",
        "arrow-right",
        "forward"
       ],
       [
        "Pan",
        "Left button pans, Right button zooms\nx/y fixes axis, CTRL fixes aspect",
        "arrows",
        "pan"
       ],
       [
        "Zoom",
        "Zoom to rectangle\nx/y fixes axis",
        "square-o",
        "zoom"
       ],
       [
        "Download",
        "Download plot",
        "floppy-o",
        "save_figure"
       ]
      ]
     }
    },
    "8ca1a21b71b0418495e76442d3fa70e3": {
     "model_module": "@jupyter-widgets/base",
     "model_name": "LayoutModel",
     "model_module_version": "1.2.0",
     "state": {
      "_model_module": "@jupyter-widgets/base",
      "_model_module_version": "1.2.0",
      "_model_name": "LayoutModel",
      "_view_count": null,
      "_view_module": "@jupyter-widgets/base",
      "_view_module_version": "1.2.0",
      "_view_name": "LayoutView",
      "align_content": null,
      "align_items": null,
      "align_self": null,
      "border": null,
      "bottom": null,
      "display": null,
      "flex": null,
      "flex_flow": null,
      "grid_area": null,
      "grid_auto_columns": null,
      "grid_auto_flow": null,
      "grid_auto_rows": null,
      "grid_column": null,
      "grid_gap": null,
      "grid_row": null,
      "grid_template_areas": null,
      "grid_template_columns": null,
      "grid_template_rows": null,
      "height": null,
      "justify_content": null,
      "justify_items": null,
      "left": null,
      "margin": null,
      "max_height": null,
      "max_width": null,
      "min_height": null,
      "min_width": null,
      "object_fit": null,
      "object_position": null,
      "order": null,
      "overflow": null,
      "overflow_x": null,
      "overflow_y": null,
      "padding": null,
      "right": null,
      "top": null,
      "visibility": null,
      "width": null
     }
    }
   }
  }
 },
 "nbformat": 4,
 "nbformat_minor": 0
}