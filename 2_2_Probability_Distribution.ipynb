{
  "cells": [
    {
      "cell_type": "markdown",
      "metadata": {
        "id": "view-in-github",
        "colab_type": "text"
      },
      "source": [
        "<a href=\"https://colab.research.google.com/github/mikemykhaylov/MAT-494/blob/main/2_2_Probability_Distribution.ipynb\" target=\"_parent\"><img src=\"https://colab.research.google.com/assets/colab-badge.svg\" alt=\"Open In Colab\"/></a>"
      ]
    },
    {
      "cell_type": "code",
      "execution_count": 1,
      "metadata": {
        "colab": {
          "base_uri": "https://localhost:8080/"
        },
        "id": "1MYMEunEtkLn",
        "outputId": "3016bfd5-7d14-482e-d8fe-43c04ea9535d"
      },
      "outputs": [
        {
          "output_type": "stream",
          "name": "stdout",
          "text": [
            "Requirement already satisfied: numpy in /usr/local/lib/python3.10/dist-packages (1.23.5)\n",
            "Requirement already satisfied: seaborn in /usr/local/lib/python3.10/dist-packages (0.12.2)\n",
            "Requirement already satisfied: scipy in /usr/local/lib/python3.10/dist-packages (1.11.2)\n",
            "Requirement already satisfied: matplotlib in /usr/local/lib/python3.10/dist-packages (3.7.1)\n",
            "Requirement already satisfied: ipympl in /usr/local/lib/python3.10/dist-packages (0.9.3)\n",
            "Requirement already satisfied: pillow in /usr/local/lib/python3.10/dist-packages (9.4.0)\n",
            "Requirement already satisfied: scikit-learn in /usr/local/lib/python3.10/dist-packages (1.2.2)\n",
            "Requirement already satisfied: requests in /usr/local/lib/python3.10/dist-packages (2.31.0)\n",
            "Requirement already satisfied: pandas>=0.25 in /usr/local/lib/python3.10/dist-packages (from seaborn) (1.5.3)\n",
            "Requirement already satisfied: contourpy>=1.0.1 in /usr/local/lib/python3.10/dist-packages (from matplotlib) (1.1.0)\n",
            "Requirement already satisfied: cycler>=0.10 in /usr/local/lib/python3.10/dist-packages (from matplotlib) (0.11.0)\n",
            "Requirement already satisfied: fonttools>=4.22.0 in /usr/local/lib/python3.10/dist-packages (from matplotlib) (4.42.1)\n",
            "Requirement already satisfied: kiwisolver>=1.0.1 in /usr/local/lib/python3.10/dist-packages (from matplotlib) (1.4.5)\n",
            "Requirement already satisfied: packaging>=20.0 in /usr/local/lib/python3.10/dist-packages (from matplotlib) (23.1)\n",
            "Requirement already satisfied: pyparsing>=2.3.1 in /usr/local/lib/python3.10/dist-packages (from matplotlib) (3.1.1)\n",
            "Requirement already satisfied: python-dateutil>=2.7 in /usr/local/lib/python3.10/dist-packages (from matplotlib) (2.8.2)\n",
            "Requirement already satisfied: ipython<9 in /usr/local/lib/python3.10/dist-packages (from ipympl) (7.34.0)\n",
            "Requirement already satisfied: ipython-genutils in /usr/local/lib/python3.10/dist-packages (from ipympl) (0.2.0)\n",
            "Requirement already satisfied: traitlets<6 in /usr/local/lib/python3.10/dist-packages (from ipympl) (5.7.1)\n",
            "Requirement already satisfied: ipywidgets<9,>=7.6.0 in /usr/local/lib/python3.10/dist-packages (from ipympl) (7.7.1)\n",
            "Requirement already satisfied: joblib>=1.1.1 in /usr/local/lib/python3.10/dist-packages (from scikit-learn) (1.3.2)\n",
            "Requirement already satisfied: threadpoolctl>=2.0.0 in /usr/local/lib/python3.10/dist-packages (from scikit-learn) (3.2.0)\n",
            "Requirement already satisfied: charset-normalizer<4,>=2 in /usr/local/lib/python3.10/dist-packages (from requests) (3.2.0)\n",
            "Requirement already satisfied: idna<4,>=2.5 in /usr/local/lib/python3.10/dist-packages (from requests) (3.4)\n",
            "Requirement already satisfied: urllib3<3,>=1.21.1 in /usr/local/lib/python3.10/dist-packages (from requests) (2.0.4)\n",
            "Requirement already satisfied: certifi>=2017.4.17 in /usr/local/lib/python3.10/dist-packages (from requests) (2023.7.22)\n",
            "Requirement already satisfied: setuptools>=18.5 in /usr/local/lib/python3.10/dist-packages (from ipython<9->ipympl) (67.7.2)\n",
            "Requirement already satisfied: jedi>=0.16 in /usr/local/lib/python3.10/dist-packages (from ipython<9->ipympl) (0.19.0)\n",
            "Requirement already satisfied: decorator in /usr/local/lib/python3.10/dist-packages (from ipython<9->ipympl) (4.4.2)\n",
            "Requirement already satisfied: pickleshare in /usr/local/lib/python3.10/dist-packages (from ipython<9->ipympl) (0.7.5)\n",
            "Requirement already satisfied: prompt-toolkit!=3.0.0,!=3.0.1,<3.1.0,>=2.0.0 in /usr/local/lib/python3.10/dist-packages (from ipython<9->ipympl) (3.0.39)\n",
            "Requirement already satisfied: pygments in /usr/local/lib/python3.10/dist-packages (from ipython<9->ipympl) (2.16.1)\n",
            "Requirement already satisfied: backcall in /usr/local/lib/python3.10/dist-packages (from ipython<9->ipympl) (0.2.0)\n",
            "Requirement already satisfied: matplotlib-inline in /usr/local/lib/python3.10/dist-packages (from ipython<9->ipympl) (0.1.6)\n",
            "Requirement already satisfied: pexpect>4.3 in /usr/local/lib/python3.10/dist-packages (from ipython<9->ipympl) (4.8.0)\n",
            "Requirement already satisfied: ipykernel>=4.5.1 in /usr/local/lib/python3.10/dist-packages (from ipywidgets<9,>=7.6.0->ipympl) (5.5.6)\n",
            "Requirement already satisfied: widgetsnbextension~=3.6.0 in /usr/local/lib/python3.10/dist-packages (from ipywidgets<9,>=7.6.0->ipympl) (3.6.5)\n",
            "Requirement already satisfied: jupyterlab-widgets>=1.0.0 in /usr/local/lib/python3.10/dist-packages (from ipywidgets<9,>=7.6.0->ipympl) (3.0.8)\n",
            "Requirement already satisfied: pytz>=2020.1 in /usr/local/lib/python3.10/dist-packages (from pandas>=0.25->seaborn) (2023.3.post1)\n",
            "Requirement already satisfied: six>=1.5 in /usr/local/lib/python3.10/dist-packages (from python-dateutil>=2.7->matplotlib) (1.16.0)\n",
            "Requirement already satisfied: jupyter-client in /usr/local/lib/python3.10/dist-packages (from ipykernel>=4.5.1->ipywidgets<9,>=7.6.0->ipympl) (6.1.12)\n",
            "Requirement already satisfied: tornado>=4.2 in /usr/local/lib/python3.10/dist-packages (from ipykernel>=4.5.1->ipywidgets<9,>=7.6.0->ipympl) (6.3.2)\n",
            "Requirement already satisfied: parso<0.9.0,>=0.8.3 in /usr/local/lib/python3.10/dist-packages (from jedi>=0.16->ipython<9->ipympl) (0.8.3)\n",
            "Requirement already satisfied: ptyprocess>=0.5 in /usr/local/lib/python3.10/dist-packages (from pexpect>4.3->ipython<9->ipympl) (0.7.0)\n",
            "Requirement already satisfied: wcwidth in /usr/local/lib/python3.10/dist-packages (from prompt-toolkit!=3.0.0,!=3.0.1,<3.1.0,>=2.0.0->ipython<9->ipympl) (0.2.6)\n",
            "Requirement already satisfied: notebook>=4.4.1 in /usr/local/lib/python3.10/dist-packages (from widgetsnbextension~=3.6.0->ipywidgets<9,>=7.6.0->ipympl) (6.5.5)\n",
            "Requirement already satisfied: jinja2 in /usr/local/lib/python3.10/dist-packages (from notebook>=4.4.1->widgetsnbextension~=3.6.0->ipywidgets<9,>=7.6.0->ipympl) (3.1.2)\n",
            "Requirement already satisfied: pyzmq<25,>=17 in /usr/local/lib/python3.10/dist-packages (from notebook>=4.4.1->widgetsnbextension~=3.6.0->ipywidgets<9,>=7.6.0->ipympl) (23.2.1)\n",
            "Requirement already satisfied: argon2-cffi in /usr/local/lib/python3.10/dist-packages (from notebook>=4.4.1->widgetsnbextension~=3.6.0->ipywidgets<9,>=7.6.0->ipympl) (23.1.0)\n",
            "Requirement already satisfied: jupyter-core>=4.6.1 in /usr/local/lib/python3.10/dist-packages (from notebook>=4.4.1->widgetsnbextension~=3.6.0->ipywidgets<9,>=7.6.0->ipympl) (5.3.1)\n",
            "Requirement already satisfied: nbformat in /usr/local/lib/python3.10/dist-packages (from notebook>=4.4.1->widgetsnbextension~=3.6.0->ipywidgets<9,>=7.6.0->ipympl) (5.9.2)\n",
            "Requirement already satisfied: nbconvert>=5 in /usr/local/lib/python3.10/dist-packages (from notebook>=4.4.1->widgetsnbextension~=3.6.0->ipywidgets<9,>=7.6.0->ipympl) (6.5.4)\n",
            "Requirement already satisfied: nest-asyncio>=1.5 in /usr/local/lib/python3.10/dist-packages (from notebook>=4.4.1->widgetsnbextension~=3.6.0->ipywidgets<9,>=7.6.0->ipympl) (1.5.7)\n",
            "Requirement already satisfied: Send2Trash>=1.8.0 in /usr/local/lib/python3.10/dist-packages (from notebook>=4.4.1->widgetsnbextension~=3.6.0->ipywidgets<9,>=7.6.0->ipympl) (1.8.2)\n",
            "Requirement already satisfied: terminado>=0.8.3 in /usr/local/lib/python3.10/dist-packages (from notebook>=4.4.1->widgetsnbextension~=3.6.0->ipywidgets<9,>=7.6.0->ipympl) (0.17.1)\n",
            "Requirement already satisfied: prometheus-client in /usr/local/lib/python3.10/dist-packages (from notebook>=4.4.1->widgetsnbextension~=3.6.0->ipywidgets<9,>=7.6.0->ipympl) (0.17.1)\n",
            "Requirement already satisfied: nbclassic>=0.4.7 in /usr/local/lib/python3.10/dist-packages (from notebook>=4.4.1->widgetsnbextension~=3.6.0->ipywidgets<9,>=7.6.0->ipympl) (1.0.0)\n",
            "Requirement already satisfied: platformdirs>=2.5 in /usr/local/lib/python3.10/dist-packages (from jupyter-core>=4.6.1->notebook>=4.4.1->widgetsnbextension~=3.6.0->ipywidgets<9,>=7.6.0->ipympl) (3.10.0)\n",
            "Requirement already satisfied: jupyter-server>=1.8 in /usr/local/lib/python3.10/dist-packages (from nbclassic>=0.4.7->notebook>=4.4.1->widgetsnbextension~=3.6.0->ipywidgets<9,>=7.6.0->ipympl) (1.24.0)\n",
            "Requirement already satisfied: notebook-shim>=0.2.3 in /usr/local/lib/python3.10/dist-packages (from nbclassic>=0.4.7->notebook>=4.4.1->widgetsnbextension~=3.6.0->ipywidgets<9,>=7.6.0->ipympl) (0.2.3)\n",
            "Requirement already satisfied: lxml in /usr/local/lib/python3.10/dist-packages (from nbconvert>=5->notebook>=4.4.1->widgetsnbextension~=3.6.0->ipywidgets<9,>=7.6.0->ipympl) (4.9.3)\n",
            "Requirement already satisfied: beautifulsoup4 in /usr/local/lib/python3.10/dist-packages (from nbconvert>=5->notebook>=4.4.1->widgetsnbextension~=3.6.0->ipywidgets<9,>=7.6.0->ipympl) (4.11.2)\n",
            "Requirement already satisfied: bleach in /usr/local/lib/python3.10/dist-packages (from nbconvert>=5->notebook>=4.4.1->widgetsnbextension~=3.6.0->ipywidgets<9,>=7.6.0->ipympl) (6.0.0)\n",
            "Requirement already satisfied: defusedxml in /usr/local/lib/python3.10/dist-packages (from nbconvert>=5->notebook>=4.4.1->widgetsnbextension~=3.6.0->ipywidgets<9,>=7.6.0->ipympl) (0.7.1)\n",
            "Requirement already satisfied: entrypoints>=0.2.2 in /usr/local/lib/python3.10/dist-packages (from nbconvert>=5->notebook>=4.4.1->widgetsnbextension~=3.6.0->ipywidgets<9,>=7.6.0->ipympl) (0.4)\n",
            "Requirement already satisfied: jupyterlab-pygments in /usr/local/lib/python3.10/dist-packages (from nbconvert>=5->notebook>=4.4.1->widgetsnbextension~=3.6.0->ipywidgets<9,>=7.6.0->ipympl) (0.2.2)\n",
            "Requirement already satisfied: MarkupSafe>=2.0 in /usr/local/lib/python3.10/dist-packages (from nbconvert>=5->notebook>=4.4.1->widgetsnbextension~=3.6.0->ipywidgets<9,>=7.6.0->ipympl) (2.1.3)\n",
            "Requirement already satisfied: mistune<2,>=0.8.1 in /usr/local/lib/python3.10/dist-packages (from nbconvert>=5->notebook>=4.4.1->widgetsnbextension~=3.6.0->ipywidgets<9,>=7.6.0->ipympl) (0.8.4)\n",
            "Requirement already satisfied: nbclient>=0.5.0 in /usr/local/lib/python3.10/dist-packages (from nbconvert>=5->notebook>=4.4.1->widgetsnbextension~=3.6.0->ipywidgets<9,>=7.6.0->ipympl) (0.8.0)\n",
            "Requirement already satisfied: pandocfilters>=1.4.1 in /usr/local/lib/python3.10/dist-packages (from nbconvert>=5->notebook>=4.4.1->widgetsnbextension~=3.6.0->ipywidgets<9,>=7.6.0->ipympl) (1.5.0)\n",
            "Requirement already satisfied: tinycss2 in /usr/local/lib/python3.10/dist-packages (from nbconvert>=5->notebook>=4.4.1->widgetsnbextension~=3.6.0->ipywidgets<9,>=7.6.0->ipympl) (1.2.1)\n",
            "Requirement already satisfied: fastjsonschema in /usr/local/lib/python3.10/dist-packages (from nbformat->notebook>=4.4.1->widgetsnbextension~=3.6.0->ipywidgets<9,>=7.6.0->ipympl) (2.18.0)\n",
            "Requirement already satisfied: jsonschema>=2.6 in /usr/local/lib/python3.10/dist-packages (from nbformat->notebook>=4.4.1->widgetsnbextension~=3.6.0->ipywidgets<9,>=7.6.0->ipympl) (4.19.0)\n",
            "Requirement already satisfied: argon2-cffi-bindings in /usr/local/lib/python3.10/dist-packages (from argon2-cffi->notebook>=4.4.1->widgetsnbextension~=3.6.0->ipywidgets<9,>=7.6.0->ipympl) (21.2.0)\n",
            "Requirement already satisfied: attrs>=22.2.0 in /usr/local/lib/python3.10/dist-packages (from jsonschema>=2.6->nbformat->notebook>=4.4.1->widgetsnbextension~=3.6.0->ipywidgets<9,>=7.6.0->ipympl) (23.1.0)\n",
            "Requirement already satisfied: jsonschema-specifications>=2023.03.6 in /usr/local/lib/python3.10/dist-packages (from jsonschema>=2.6->nbformat->notebook>=4.4.1->widgetsnbextension~=3.6.0->ipywidgets<9,>=7.6.0->ipympl) (2023.7.1)\n",
            "Requirement already satisfied: referencing>=0.28.4 in /usr/local/lib/python3.10/dist-packages (from jsonschema>=2.6->nbformat->notebook>=4.4.1->widgetsnbextension~=3.6.0->ipywidgets<9,>=7.6.0->ipympl) (0.30.2)\n",
            "Requirement already satisfied: rpds-py>=0.7.1 in /usr/local/lib/python3.10/dist-packages (from jsonschema>=2.6->nbformat->notebook>=4.4.1->widgetsnbextension~=3.6.0->ipywidgets<9,>=7.6.0->ipympl) (0.10.2)\n",
            "Requirement already satisfied: anyio<4,>=3.1.0 in /usr/local/lib/python3.10/dist-packages (from jupyter-server>=1.8->nbclassic>=0.4.7->notebook>=4.4.1->widgetsnbextension~=3.6.0->ipywidgets<9,>=7.6.0->ipympl) (3.7.1)\n",
            "Requirement already satisfied: websocket-client in /usr/local/lib/python3.10/dist-packages (from jupyter-server>=1.8->nbclassic>=0.4.7->notebook>=4.4.1->widgetsnbextension~=3.6.0->ipywidgets<9,>=7.6.0->ipympl) (1.6.2)\n",
            "Requirement already satisfied: cffi>=1.0.1 in /usr/local/lib/python3.10/dist-packages (from argon2-cffi-bindings->argon2-cffi->notebook>=4.4.1->widgetsnbextension~=3.6.0->ipywidgets<9,>=7.6.0->ipympl) (1.15.1)\n",
            "Requirement already satisfied: soupsieve>1.2 in /usr/local/lib/python3.10/dist-packages (from beautifulsoup4->nbconvert>=5->notebook>=4.4.1->widgetsnbextension~=3.6.0->ipywidgets<9,>=7.6.0->ipympl) (2.5)\n",
            "Requirement already satisfied: webencodings in /usr/local/lib/python3.10/dist-packages (from bleach->nbconvert>=5->notebook>=4.4.1->widgetsnbextension~=3.6.0->ipywidgets<9,>=7.6.0->ipympl) (0.5.1)\n",
            "Requirement already satisfied: sniffio>=1.1 in /usr/local/lib/python3.10/dist-packages (from anyio<4,>=3.1.0->jupyter-server>=1.8->nbclassic>=0.4.7->notebook>=4.4.1->widgetsnbextension~=3.6.0->ipywidgets<9,>=7.6.0->ipympl) (1.3.0)\n",
            "Requirement already satisfied: exceptiongroup in /usr/local/lib/python3.10/dist-packages (from anyio<4,>=3.1.0->jupyter-server>=1.8->nbclassic>=0.4.7->notebook>=4.4.1->widgetsnbextension~=3.6.0->ipywidgets<9,>=7.6.0->ipympl) (1.1.3)\n",
            "Requirement already satisfied: pycparser in /usr/local/lib/python3.10/dist-packages (from cffi>=1.0.1->argon2-cffi-bindings->argon2-cffi->notebook>=4.4.1->widgetsnbextension~=3.6.0->ipywidgets<9,>=7.6.0->ipympl) (2.21)\n"
          ]
        }
      ],
      "source": [
        "%pip install numpy seaborn scipy matplotlib ipympl pillow scikit-learn requests"
      ]
    },
    {
      "cell_type": "code",
      "execution_count": 2,
      "metadata": {
        "id": "85p618S_t7j5"
      },
      "outputs": [],
      "source": [
        "from google.colab import output\n",
        "output.enable_custom_widget_manager()"
      ]
    },
    {
      "cell_type": "code",
      "execution_count": 3,
      "metadata": {
        "id": "X9GWMxyJtkLp"
      },
      "outputs": [],
      "source": [
        "import numpy as np\n",
        "import matplotlib.pyplot as plt"
      ]
    },
    {
      "cell_type": "code",
      "execution_count": 4,
      "metadata": {
        "id": "UsTVBGsStkLq"
      },
      "outputs": [],
      "source": [
        "%matplotlib widget"
      ]
    },
    {
      "cell_type": "markdown",
      "metadata": {
        "id": "gFRvSmNftkLq"
      },
      "source": [
        "# 2.2 Probability Distribution\n",
        "\n",
        "Topics of this chapter\n",
        "- Basic probability distributions\n",
        "- Conditional probability\n",
        "- Discrete random variables\n",
        "- Continuous random variables"
      ]
    },
    {
      "cell_type": "markdown",
      "metadata": {
        "id": "TT2OusF4tkLr"
      },
      "source": [
        "## Basic probability distributions\n",
        "\n",
        "This is a function that maps the Probability Sample Space of a Random Variable to the probability of occurrence of the outcome. This function satisfies the following constraints, also known as *Kolmogorov axioms*:\n",
        "$$\n",
        "\\forall E \\subseteq S, 0 \\leq P(X\\in E) \\leq 1\n",
        "$$"
      ]
    },
    {
      "cell_type": "code",
      "execution_count": 5,
      "metadata": {
        "colab": {
          "base_uri": "https://localhost:8080/"
        },
        "id": "HnD0lOs9hU8a",
        "outputId": "b7c03a98-0439-4694-e7e3-b339236cd9a1"
      },
      "outputs": [
        {
          "output_type": "execute_result",
          "data": {
            "text/plain": [
              "{'Heads': 0.5, 'Tails': 0.5}"
            ]
          },
          "metadata": {},
          "execution_count": 5
        }
      ],
      "source": [
        "# Simple example: Tossing a fair coin once\n",
        "\n",
        "sample_space = [\"Heads\", \"Tails\"]\n",
        "probability_distribution = {outcome: 0.5 for outcome in sample_space}\n",
        "\n",
        "probability_distribution"
      ]
    },
    {
      "cell_type": "markdown",
      "metadata": {
        "id": "VdYq5hPLhU8b"
      },
      "source": [
        "## Conditional probability\n",
        "\n",
        "Conditional probability is the probability of an event given that another event has occurred. It is denoted as $P(A|B)$ and is defined as:\n",
        "\n",
        "$$\n",
        "P(A|B) = \\frac{P(A \\cap B)}{P(B)}\n",
        "$$"
      ]
    },
    {
      "cell_type": "code",
      "execution_count": 6,
      "metadata": {
        "colab": {
          "base_uri": "https://localhost:8080/"
        },
        "id": "MG-fpB8TtkLs",
        "outputId": "7eaebcc1-28b9-4e9c-ae0f-aee9fcb10b7e"
      },
      "outputs": [
        {
          "output_type": "execute_result",
          "data": {
            "text/plain": [
              "0.0003770739064856712"
            ]
          },
          "metadata": {},
          "execution_count": 6
        }
      ],
      "source": [
        "# Simple example: Drawing cards from a deck\n",
        "\n",
        "def conditional_probability(card_1, card_2, deck_size=52):\n",
        "    prob_card_1 = 1/deck_size\n",
        "    prob_card_2_given_card_1 = 1/(deck_size - 1)\n",
        "    return prob_card_1 * prob_card_2_given_card_1\n",
        "\n",
        "# Probability of drawing an Ace first and then a King\n",
        "conditional_probability(\"Ace\", \"King\")"
      ]
    },
    {
      "cell_type": "markdown",
      "metadata": {
        "id": "_Dxl3JMNhU8c"
      },
      "source": [
        "## Discrete random variables\n",
        "\n",
        "A discrete random variable is a random variable that can take on a countable number of values. The probability distribution of a discrete random variable is a list of probabilities associated with each of its possible values. It is also sometimes called the probability function or the probability mass function."
      ]
    },
    {
      "cell_type": "code",
      "execution_count": 7,
      "metadata": {
        "colab": {
          "base_uri": "https://localhost:8080/"
        },
        "id": "F3dlzqb5hU8c",
        "outputId": "b5144351-6040-4bc4-e6f6-ce356cde96b7"
      },
      "outputs": [
        {
          "output_type": "stream",
          "name": "stdout",
          "text": [
            "[1, 1, 1, 0, 1, 0, 1, 1, 1, 1]\n",
            "0.7 0.21000000000000002\n"
          ]
        }
      ],
      "source": [
        "# Bernoulli random variable (success or failure)\n",
        "def bernoulli(p_success):\n",
        "    return np.random.choice([0, 1], p=[1-p_success, p_success])\n",
        "\n",
        "# Simulating a Bernoulli random variable with p_success=0.7\n",
        "print([bernoulli(0.7) for _ in range(10)])\n",
        "\n",
        "# Expected value and variance of a Bernoulli random variable\n",
        "def expected_value(p_success):\n",
        "    return p_success\n",
        "\n",
        "def variance(p_success):\n",
        "    return p_success * (1 - p_success)\n",
        "\n",
        "print(expected_value(0.7), variance(0.7))"
      ]
    },
    {
      "cell_type": "markdown",
      "metadata": {
        "id": "Dy49RYkShU8d"
      },
      "source": [
        "## Continuous random variables\n",
        "\n",
        "A continuous random variable is a random variable that can take on an uncountable number of values. The probability distribution of a continuous random variable is a function that takes on continuous values. It is also sometimes called the probability density function."
      ]
    },
    {
      "cell_type": "code",
      "execution_count": 8,
      "metadata": {
        "colab": {
          "base_uri": "https://localhost:8080/",
          "height": 569,
          "referenced_widgets": [
            "e602eb8ffda74431b97f5b1681780c7e",
            "b23fbd81ee9945a18b3e236f6ff322b3",
            "42b38fb76207468da575a04e53912c72",
            "64255671f42848a2a45f6042d6e5125b"
          ]
        },
        "id": "BxIg8QUaZ0Ue",
        "outputId": "0f6ab3df-852a-4813-c6e7-f67e62764894"
      },
      "outputs": [
        {
          "output_type": "display_data",
          "data": {
            "text/plain": [
              "Canvas(toolbar=Toolbar(toolitems=[('Home', 'Reset original view', 'home', 'home'), ('Back', 'Back to previous …"
            ],
            "image/png": "[encoded data removed]",
            "text/html": [
              "\n",
              "            <div style=\"display: inline-block;\">\n",
              "                <div class=\"jupyter-widgets widget-label\" style=\"text-align: center;\">\n",
              "                    Figure\n",
              "                </div>\n",
              "                <img src='data:image/png;base64,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' width=640.0/>\n",
              "            </div>\n",
              "        "
            ],
            "application/vnd.jupyter.widget-view+json": {
              "version_major": 2,
              "version_minor": 0,
              "model_id": "e602eb8ffda74431b97f5b1681780c7e"
            }
          },
          "metadata": {
            "application/vnd.jupyter.widget-view+json": {
              "colab": {
                "custom_widget_manager": {
                  "url": "https://ssl.gstatic.com/colaboratory-static/widgets/colab-cdn-widget-manager/b3e629b1971e1542/manager.min.js"
                }
              }
            }
          }
        }
      ],
      "source": [
        "# Normal distribution (Gaussian distribution)\n",
        "data = np.random.normal(0, 1, 1000) # mean = 0, std dev = 1\n",
        "\n",
        "# Histogram of the data\n",
        "plt.hist(data, bins=30, density=True)\n",
        "plt.title(\"Normal Distribution\")\n",
        "plt.xlabel(\"Value\")\n",
        "plt.ylabel(\"Density\")\n",
        "plt.show()"
      ]
    },
    {
      "cell_type": "code",
      "execution_count": 9,
      "metadata": {
        "colab": {
          "base_uri": "https://localhost:8080/",
          "height": 35
        },
        "id": "12BtpoHNZ0Uf",
        "outputId": "75f76b29-9198-407e-df1c-207f27dedd90"
      },
      "outputs": [
        {
          "output_type": "stream",
          "name": "stdout",
          "text": [
            "0 1\n"
          ]
        }
      ],
      "source": [
        "# Expected value and variance of a normal distribution\n",
        "\n",
        "def expected_value(mean, std_dev):\n",
        "    return mean\n",
        "\n",
        "def variance(mean, std_dev):\n",
        "    return std_dev**2\n",
        "\n",
        "print(expected_value(0, 1), variance(0, 1))"
      ]
    },
    {
      "cell_type": "code",
      "execution_count": 9,
      "metadata": {
        "id": "fuda9-mOZ0Uf"
      },
      "outputs": [],
      "source": []
    }
  ],
  "metadata": {
    "colab": {
      "provenance": [],
      "include_colab_link": true
    },
    "kernelspec": {
      "display_name": "venv",
      "language": "python",
      "name": "python3"
    },
    "language_info": {
      "codemirror_mode": {
        "name": "ipython",
        "version": 3
      },
      "file_extension": ".py",
      "mimetype": "text/x-python",
      "name": "python",
      "nbconvert_exporter": "python",
      "pygments_lexer": "ipython3",
      "version": "3.11.5"
    },
    "orig_nbformat": 4,
    "widgets": {
      "application/vnd.jupyter.widget-state+json": {
        "e602eb8ffda74431b97f5b1681780c7e": {
          "model_module": "jupyter-matplotlib",
          "model_name": "MPLCanvasModel",
          "model_module_version": "^0.11",
          "state": {
            "_cursor": "default",
            "_data_url": "data:image/png;base64,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",
            "_dom_classes": [],
            "_figure_label": "Figure 1",
            "_image_mode": "full",
            "_message": "x=−3.230 y=0.2069",
            "_model_module": "jupyter-matplotlib",
            "_model_module_version": "^0.11",
            "_model_name": "MPLCanvasModel",
            "_rubberband_height": 0,
            "_rubberband_width": 0,
            "_rubberband_x": 0,
            "_rubberband_y": 0,
            "_size": [
              640,
              480
            ],
            "_view_count": null,
            "_view_module": "jupyter-matplotlib",
            "_view_module_version": "^0.11",
            "_view_name": "MPLCanvasView",
            "capture_scroll": false,
            "footer_visible": true,
            "header_visible": true,
            "layout": "IPY_MODEL_b23fbd81ee9945a18b3e236f6ff322b3",
            "pan_zoom_throttle": 33,
            "resizable": true,
            "toolbar": "IPY_MODEL_42b38fb76207468da575a04e53912c72",
            "toolbar_position": "left",
            "toolbar_visible": "fade-in-fade-out"
          }
        },
        "b23fbd81ee9945a18b3e236f6ff322b3": {
          "model_module": "@jupyter-widgets/base",
          "model_name": "LayoutModel",
          "model_module_version": "1.2.0",
          "state": {
            "_model_module": "@jupyter-widgets/base",
            "_model_module_version": "1.2.0",
            "_model_name": "LayoutModel",
            "_view_count": null,
            "_view_module": "@jupyter-widgets/base",
            "_view_module_version": "1.2.0",
            "_view_name": "LayoutView",
            "align_content": null,
            "align_items": null,
            "align_self": null,
            "border": null,
            "bottom": null,
            "display": null,
            "flex": null,
            "flex_flow": null,
            "grid_area": null,
            "grid_auto_columns": null,
            "grid_auto_flow": null,
            "grid_auto_rows": null,
            "grid_column": null,
            "grid_gap": null,
            "grid_row": null,
            "grid_template_areas": null,
            "grid_template_columns": null,
            "grid_template_rows": null,
            "height": null,
            "justify_content": null,
            "justify_items": null,
            "left": null,
            "margin": null,
            "max_height": null,
            "max_width": null,
            "min_height": null,
            "min_width": null,
            "object_fit": null,
            "object_position": null,
            "order": null,
            "overflow": null,
            "overflow_x": null,
            "overflow_y": null,
            "padding": null,
            "right": null,
            "top": null,
            "visibility": null,
            "width": null
          }
        },
        "42b38fb76207468da575a04e53912c72": {
          "model_module": "jupyter-matplotlib",
          "model_name": "ToolbarModel",
          "model_module_version": "^0.11",
          "state": {
            "_current_action": "",
            "_dom_classes": [],
            "_model_module": "jupyter-matplotlib",
            "_model_module_version": "^0.11",
            "_model_name": "ToolbarModel",
            "_view_count": null,
            "_view_module": "jupyter-matplotlib",
            "_view_module_version": "^0.11",
            "_view_name": "ToolbarView",
            "button_style": "",
            "collapsed": true,
            "layout": "IPY_MODEL_64255671f42848a2a45f6042d6e5125b",
            "orientation": "vertical",
            "toolitems": [
              [
                "Home",
                "Reset original view",
                "home",
                "home"
              ],
              [
                "Back",
                "Back to previous view",
                "arrow-left",
                "back"
              ],
              [
                "Forward",
                "Forward to next view",
                "arrow-right",
                "forward"
              ],
              [
                "Pan",
                "Left button pans, Right button zooms\nx/y fixes axis, CTRL fixes aspect",
                "arrows",
                "pan"
              ],
              [
                "Zoom",
                "Zoom to rectangle\nx/y fixes axis",
                "square-o",
                "zoom"
              ],
              [
                "Download",
                "Download plot",
                "floppy-o",
                "save_figure"
              ]
            ]
          }
        },
        "64255671f42848a2a45f6042d6e5125b": {
          "model_module": "@jupyter-widgets/base",
          "model_name": "LayoutModel",
          "model_module_version": "1.2.0",
          "state": {
            "_model_module": "@jupyter-widgets/base",
            "_model_module_version": "1.2.0",
            "_model_name": "LayoutModel",
            "_view_count": null,
            "_view_module": "@jupyter-widgets/base",
            "_view_module_version": "1.2.0",
            "_view_name": "LayoutView",
            "align_content": null,
            "align_items": null,
            "align_self": null,
            "border": null,
            "bottom": null,
            "display": null,
            "flex": null,
            "flex_flow": null,
            "grid_area": null,
            "grid_auto_columns": null,
            "grid_auto_flow": null,
            "grid_auto_rows": null,
            "grid_column": null,
            "grid_gap": null,
            "grid_row": null,
            "grid_template_areas": null,
            "grid_template_columns": null,
            "grid_template_rows": null,
            "height": null,
            "justify_content": null,
            "justify_items": null,
            "left": null,
            "margin": null,
            "max_height": null,
            "max_width": null,
            "min_height": null,
            "min_width": null,
            "object_fit": null,
            "object_position": null,
            "order": null,
            "overflow": null,
            "overflow_x": null,
            "overflow_y": null,
            "padding": null,
            "right": null,
            "top": null,
            "visibility": null,
            "width": null
          }
        }
      }
    }
  },
  "nbformat": 4,
  "nbformat_minor": 0
}